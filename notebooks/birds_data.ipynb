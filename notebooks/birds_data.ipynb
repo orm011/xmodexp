{
 "cells": [
  {
   "cell_type": "code",
   "execution_count": 7,
   "metadata": {
    "ExecuteTime": {
     "end_time": "2021-09-29T18:07:26.803249Z",
     "start_time": "2021-09-29T18:07:26.799527Z"
    }
   },
   "outputs": [],
   "source": [
    "import pandas as pd\n"
   ]
  },
  {
   "cell_type": "code",
   "execution_count": 8,
   "metadata": {
    "ExecuteTime": {
     "end_time": "2021-09-29T18:07:26.967480Z",
     "start_time": "2021-09-29T18:07:26.962766Z"
    }
   },
   "outputs": [
    {
     "ename": "SyntaxError",
     "evalue": "invalid syntax (<ipython-input-8-989575874905>, line 1)",
     "output_type": "error",
     "traceback": [
      "\u001b[0;36m  File \u001b[0;32m\"<ipython-input-8-989575874905>\"\u001b[0;36m, line \u001b[0;32m1\u001b[0m\n\u001b[0;31m    ls ./data/nabirds_all_feats.npy\u001b[0m\n\u001b[0m        ^\u001b[0m\n\u001b[0;31mSyntaxError\u001b[0m\u001b[0;31m:\u001b[0m invalid syntax\n"
     ]
    }
   ],
   "source": [
    "ls ./data/nabirds_all_feats.npy\n",
    "ls ./data/nabirds_all_file_validity.parquet"
   ]
  },
  {
   "cell_type": "code",
   "execution_count": 9,
   "metadata": {
    "ExecuteTime": {
     "end_time": "2021-01-26T21:17:21.239536Z",
     "start_time": "2021-01-26T21:17:21.236734Z"
    }
   },
   "outputs": [],
   "source": [
    "#!ln -s /big_fast_drive/orm/nabirds/nabirds/ ./data/nabirds_root"
   ]
  },
  {
   "cell_type": "code",
   "execution_count": 14,
   "metadata": {
    "ExecuteTime": {
     "end_time": "2021-09-29T20:29:15.629708Z",
     "start_time": "2021-09-29T20:29:15.483306Z"
    }
   },
   "outputs": [
    {
     "name": "stdout",
     "output_type": "stream",
     "text": [
      "bounding_boxes.txt      \u001b[0m\u001b[01;34mimages\u001b[0m/      \u001b[01;34mparts\u001b[0m/             sizes.txt\r\n",
      "classes.txt             images.txt   photographers.txt  train_test_split.txt\r\n",
      "hierarchy.txt           __init__.py  README\r\n",
      "image_class_labels.txt  nabirds.py   README~\r\n"
     ]
    }
   ],
   "source": [
    "ls './data/nabirds_root/'"
   ]
  },
  {
   "cell_type": "code",
   "execution_count": 3,
   "metadata": {
    "ExecuteTime": {
     "end_time": "2021-09-29T17:59:11.006612Z",
     "start_time": "2021-09-29T17:59:10.999915Z"
    }
   },
   "outputs": [],
   "source": [
    "# !cat './data/nabirds_root/README'"
   ]
  },
  {
   "cell_type": "code",
   "execution_count": 451,
   "metadata": {
    "ExecuteTime": {
     "end_time": "2021-10-03T20:19:42.674318Z",
     "start_time": "2021-10-03T20:19:42.660556Z"
    }
   },
   "outputs": [
    {
     "data": {
      "text/html": [
       "<div>\n",
       "<style scoped>\n",
       "    .dataframe tbody tr th:only-of-type {\n",
       "        vertical-align: middle;\n",
       "    }\n",
       "\n",
       "    .dataframe tbody tr th {\n",
       "        vertical-align: top;\n",
       "    }\n",
       "\n",
       "    .dataframe thead th {\n",
       "        text-align: right;\n",
       "    }\n",
       "</style>\n",
       "<table border=\"1\" class=\"dataframe\">\n",
       "  <thead>\n",
       "    <tr style=\"text-align: right;\">\n",
       "      <th></th>\n",
       "      <th>image_id</th>\n",
       "      <th>image_name</th>\n",
       "    </tr>\n",
       "  </thead>\n",
       "  <tbody>\n",
       "    <tr>\n",
       "      <th>0</th>\n",
       "      <td>0000139e-21dc-4d0c-bfe1-4cae3c85c829</td>\n",
       "      <td>0817/0000139e21dc4d0cbfe14cae3c85c829.jpg</td>\n",
       "    </tr>\n",
       "    <tr>\n",
       "      <th>1</th>\n",
       "      <td>0000d9fc-4e02-4c06-a0af-a55cfb16b12b</td>\n",
       "      <td>0860/0000d9fc4e024c06a0afa55cfb16b12b.jpg</td>\n",
       "    </tr>\n",
       "    <tr>\n",
       "      <th>2</th>\n",
       "      <td>00019306-9d83-4334-b255-a447742edce3</td>\n",
       "      <td>0900/000193069d834334b255a447742edce3.jpg</td>\n",
       "    </tr>\n",
       "    <tr>\n",
       "      <th>3</th>\n",
       "      <td>0001afd4-99a1-4a67-b940-d419413e23b3</td>\n",
       "      <td>0645/0001afd499a14a67b940d419413e23b3.jpg</td>\n",
       "    </tr>\n",
       "    <tr>\n",
       "      <th>4</th>\n",
       "      <td>000332b8-997c-4540-9647-2f0a8495aecf</td>\n",
       "      <td>0929/000332b8997c454096472f0a8495aecf.jpg</td>\n",
       "    </tr>\n",
       "    <tr>\n",
       "      <th>...</th>\n",
       "      <td>...</td>\n",
       "      <td>...</td>\n",
       "    </tr>\n",
       "    <tr>\n",
       "      <th>48557</th>\n",
       "      <td>fff86e8b-795f-400a-91e8-565bbb8c453a</td>\n",
       "      <td>0891/fff86e8b795f400a91e8565bbb8c453a.jpg</td>\n",
       "    </tr>\n",
       "    <tr>\n",
       "      <th>48558</th>\n",
       "      <td>fff926d7-ccad-4788-839e-97af2dd99372</td>\n",
       "      <td>0660/fff926d7ccad4788839e97af2dd99372.jpg</td>\n",
       "    </tr>\n",
       "    <tr>\n",
       "      <th>48559</th>\n",
       "      <td>fffa33ef-a765-408d-8d66-6efc7f504c71</td>\n",
       "      <td>0492/fffa33efa765408d8d666efc7f504c71.jpg</td>\n",
       "    </tr>\n",
       "    <tr>\n",
       "      <th>48560</th>\n",
       "      <td>ffff0d87-bc84-4ef2-a47e-a4bfa48502ce</td>\n",
       "      <td>0372/ffff0d87bc844ef2a47ea4bfa48502ce.jpg</td>\n",
       "    </tr>\n",
       "    <tr>\n",
       "      <th>48561</th>\n",
       "      <td>fffff3a5-2a75-47d0-887f-03871e3f9a37</td>\n",
       "      <td>0880/fffff3a52a7547d0887f03871e3f9a37.jpg</td>\n",
       "    </tr>\n",
       "  </tbody>\n",
       "</table>\n",
       "<p>48562 rows × 2 columns</p>\n",
       "</div>"
      ],
      "text/plain": [
       "                                   image_id  \\\n",
       "0      0000139e-21dc-4d0c-bfe1-4cae3c85c829   \n",
       "1      0000d9fc-4e02-4c06-a0af-a55cfb16b12b   \n",
       "2      00019306-9d83-4334-b255-a447742edce3   \n",
       "3      0001afd4-99a1-4a67-b940-d419413e23b3   \n",
       "4      000332b8-997c-4540-9647-2f0a8495aecf   \n",
       "...                                     ...   \n",
       "48557  fff86e8b-795f-400a-91e8-565bbb8c453a   \n",
       "48558  fff926d7-ccad-4788-839e-97af2dd99372   \n",
       "48559  fffa33ef-a765-408d-8d66-6efc7f504c71   \n",
       "48560  ffff0d87-bc84-4ef2-a47e-a4bfa48502ce   \n",
       "48561  fffff3a5-2a75-47d0-887f-03871e3f9a37   \n",
       "\n",
       "                                      image_name  \n",
       "0      0817/0000139e21dc4d0cbfe14cae3c85c829.jpg  \n",
       "1      0860/0000d9fc4e024c06a0afa55cfb16b12b.jpg  \n",
       "2      0900/000193069d834334b255a447742edce3.jpg  \n",
       "3      0645/0001afd499a14a67b940d419413e23b3.jpg  \n",
       "4      0929/000332b8997c454096472f0a8495aecf.jpg  \n",
       "...                                          ...  \n",
       "48557  0891/fff86e8b795f400a91e8565bbb8c453a.jpg  \n",
       "48558  0660/fff926d7ccad4788839e97af2dd99372.jpg  \n",
       "48559  0492/fffa33efa765408d8d666efc7f504c71.jpg  \n",
       "48560  0372/ffff0d87bc844ef2a47ea4bfa48502ce.jpg  \n",
       "48561  0880/fffff3a52a7547d0887f03871e3f9a37.jpg  \n",
       "\n",
       "[48562 rows x 2 columns]"
      ]
     },
     "execution_count": 451,
     "metadata": {},
     "output_type": "execute_result"
    }
   ],
   "source": [
    "ims"
   ]
  },
  {
   "cell_type": "code",
   "execution_count": 15,
   "metadata": {
    "ExecuteTime": {
     "end_time": "2021-09-29T20:29:18.900228Z",
     "start_time": "2021-09-29T20:29:18.280413Z"
    }
   },
   "outputs": [],
   "source": [
    "ims = pd.read_csv('./data/nabirds_root/images.txt', delimiter=' ', names=['image_id', 'image_name'])\n",
    "splits = pd.read_csv('./data/nabirds_root/train_test_split.txt', delimiter=' ', names=['image_id', 'is_training_image'])\n",
    "#classes = pd.read_csv('./data/nabirds_root/classes.txt', delimiter=' ', names=['class_id', 'class_name'])\n",
    "lns = open('./data/nabirds_root/classes.txt', 'r').readlines()\n",
    "classes = pd.DataFrame([l.replace('\\n','').split(' ', 1) for l in lns], columns=['class_id', 'class_description'])\n",
    "classes = classes.assign(class_id=classes.class_id.astype('int'))\n",
    "image_labels = pd.read_csv('./data/nabirds_root/image_class_labels.txt', delimiter=' ', names=['image_id', 'class_id'])"
   ]
  },
  {
   "cell_type": "code",
   "execution_count": 16,
   "metadata": {
    "ExecuteTime": {
     "end_time": "2021-09-29T20:29:34.872873Z",
     "start_time": "2021-09-29T20:29:34.849498Z"
    }
   },
   "outputs": [],
   "source": [
    "class_hierarchy = pd.read_csv('./data/nabirds_root/hierarchy.txt', \n",
    "                              delimiter=' ', \n",
    "                              names=['child_class_id', 'parent_class_id'])"
   ]
  },
  {
   "cell_type": "code",
   "execution_count": 17,
   "metadata": {
    "ExecuteTime": {
     "end_time": "2021-09-29T20:29:39.919221Z",
     "start_time": "2021-09-29T20:29:39.916095Z"
    }
   },
   "outputs": [],
   "source": [
    "# import networkx as nx\n",
    "# ch = class_hierarchy[['child_class_id', 'parent_class_id']]\n",
    "# edges = ch.apply(tuple,axis=1).values\n",
    "# dg = nx.DiGraph()\n",
    "# dg.add_nodes_from(classes.class_id.values)\n",
    "# dg.add_edges_from(edges)"
   ]
  },
  {
   "cell_type": "code",
   "execution_count": 18,
   "metadata": {
    "ExecuteTime": {
     "end_time": "2021-09-29T20:30:49.769293Z",
     "start_time": "2021-09-29T20:30:49.753971Z"
    }
   },
   "outputs": [
    {
     "ename": "NameError",
     "evalue": "name 'dg' is not defined",
     "output_type": "error",
     "traceback": [
      "\u001b[0;31m---------------------------------------------------------------------------\u001b[0m",
      "\u001b[0;31mNameError\u001b[0m                                 Traceback (most recent call last)",
      "\u001b[0;32m<ipython-input-18-0832d2857e2c>\u001b[0m in \u001b[0;36m<module>\u001b[0;34m\u001b[0m\n\u001b[0;32m----> 1\u001b[0;31m \u001b[0mdegs\u001b[0m \u001b[0;34m=\u001b[0m \u001b[0mpd\u001b[0m\u001b[0;34m.\u001b[0m\u001b[0mDataFrame\u001b[0m\u001b[0;34m(\u001b[0m\u001b[0mdg\u001b[0m\u001b[0;34m.\u001b[0m\u001b[0min_degree\u001b[0m\u001b[0;34m,\u001b[0m \u001b[0mcolumns\u001b[0m\u001b[0;34m=\u001b[0m\u001b[0;34m[\u001b[0m\u001b[0;34m'node_id'\u001b[0m\u001b[0;34m,\u001b[0m \u001b[0;34m'in_degree'\u001b[0m\u001b[0;34m]\u001b[0m\u001b[0;34m)\u001b[0m\u001b[0;34m\u001b[0m\u001b[0;34m\u001b[0m\u001b[0m\n\u001b[0m\u001b[1;32m      2\u001b[0m \u001b[0mleaf_nodes\u001b[0m \u001b[0;34m=\u001b[0m \u001b[0mdegs\u001b[0m\u001b[0;34m[\u001b[0m\u001b[0mdegs\u001b[0m\u001b[0;34m.\u001b[0m\u001b[0min_degree\u001b[0m \u001b[0;34m==\u001b[0m \u001b[0;36m0\u001b[0m\u001b[0;34m]\u001b[0m\u001b[0;34m.\u001b[0m\u001b[0mnode_id\u001b[0m\u001b[0;34m.\u001b[0m\u001b[0mvalues\u001b[0m\u001b[0;34m\u001b[0m\u001b[0;34m\u001b[0m\u001b[0m\n",
      "\u001b[0;31mNameError\u001b[0m: name 'dg' is not defined"
     ]
    }
   ],
   "source": [
    "degs = pd.DataFrame(dg.in_degree, columns=['node_id', 'in_degree'])\n",
    "leaf_nodes = degs[degs.in_degree == 0].node_id.values"
   ]
  },
  {
   "cell_type": "code",
   "execution_count": 204,
   "metadata": {
    "ExecuteTime": {
     "end_time": "2021-01-27T21:18:37.642594Z",
     "start_time": "2021-01-27T21:18:37.625789Z"
    }
   },
   "outputs": [],
   "source": [
    "assert set(image_labels.class_id.values) - set(leaf_nodes) == set()\n",
    "## all labels are leaf nodes"
   ]
  },
  {
   "cell_type": "code",
   "execution_count": 221,
   "metadata": {
    "ExecuteTime": {
     "end_time": "2021-01-27T21:21:52.715437Z",
     "start_time": "2021-01-27T21:21:52.670881Z"
    }
   },
   "outputs": [],
   "source": [
    "paths = []\n",
    "for sn in dg.nodes:\n",
    "    pth = [sn]\n",
    "    while True:\n",
    "        last = pth[-1]\n",
    "        if last == 0:\n",
    "            break\n",
    "        e = dg.out_edges(last)\n",
    "        assert len(e) == 1\n",
    "        next_id = list(e)[0][1]\n",
    "        pth.append(next_id)\n",
    "    paths.append(pth)\n",
    "    \n",
    "word_paths = []\n",
    "for p in paths:\n",
    "    pn = classes.class_description.values[p]\n",
    "    word_paths.append((p[0], pn.tolist()))"
   ]
  },
  {
   "cell_type": "code",
   "execution_count": 255,
   "metadata": {
    "ExecuteTime": {
     "end_time": "2021-01-27T21:32:47.958051Z",
     "start_time": "2021-01-27T21:32:47.953779Z"
    }
   },
   "outputs": [],
   "source": [
    "id2paths = dict(word_paths)"
   ]
  },
  {
   "cell_type": "code",
   "execution_count": 259,
   "metadata": {
    "ExecuteTime": {
     "end_time": "2021-01-27T21:34:42.658412Z",
     "start_time": "2021-01-27T21:34:42.651985Z"
    }
   },
   "outputs": [],
   "source": [
    "id2simple_name = {i:(id2paths[i][1], for i in leaf_nodes}"
   ]
  },
  {
   "cell_type": "code",
   "execution_count": 290,
   "metadata": {
    "ExecuteTime": {
     "end_time": "2021-01-27T21:47:55.741702Z",
     "start_time": "2021-01-27T21:47:55.720779Z"
    }
   },
   "outputs": [],
   "source": [
    "idtable = []\n",
    "for k,v in id2paths.items():\n",
    "    if k in leaf_nodes:\n",
    "        assert v[0].startswith(v[1])\n",
    "        base = v[1]\n",
    "        modifier = v[0][len(v[1]):].strip()\n",
    "        if modifier != '':\n",
    "            assert modifier.startswith('(')\n",
    "            assert modifier.endswith(')')\n",
    "            modifier = modifier[1:-1]\n",
    "            \n",
    "        idtable.append((k,base,modifier,v[2:]))"
   ]
  },
  {
   "cell_type": "code",
   "execution_count": 294,
   "metadata": {
    "ExecuteTime": {
     "end_time": "2021-01-27T21:48:18.288015Z",
     "start_time": "2021-01-27T21:48:18.280810Z"
    }
   },
   "outputs": [],
   "source": [
    "simplified_class = pd.DataFrame(idtable, columns=['class_id', 'class_name', 'class_modifier', 'supercategory'])"
   ]
  },
  {
   "cell_type": "code",
   "execution_count": 29,
   "metadata": {
    "ExecuteTime": {
     "end_time": "2021-10-01T14:41:58.444083Z",
     "start_time": "2021-10-01T14:41:58.431234Z"
    }
   },
   "outputs": [
    {
     "ename": "NameError",
     "evalue": "name 'simplified_class' is not defined",
     "output_type": "error",
     "traceback": [
      "\u001b[0;31m---------------------------------------------------------------------------\u001b[0m",
      "\u001b[0;31mNameError\u001b[0m                                 Traceback (most recent call last)",
      "\u001b[0;32m<ipython-input-29-bca26147d7c0>\u001b[0m in \u001b[0;36m<module>\u001b[0;34m\u001b[0m\n\u001b[0;32m----> 1\u001b[0;31m \u001b[0msimplified_class\u001b[0m\u001b[0;34m.\u001b[0m\u001b[0mgroupby\u001b[0m\u001b[0;34m(\u001b[0m\u001b[0;34m[\u001b[0m\u001b[0;34m'class_name'\u001b[0m\u001b[0;34m]\u001b[0m\u001b[0;34m)\u001b[0m\u001b[0;34m.\u001b[0m\u001b[0msize\u001b[0m\u001b[0;34m(\u001b[0m\u001b[0;34m)\u001b[0m\u001b[0;34m\u001b[0m\u001b[0;34m\u001b[0m\u001b[0m\n\u001b[0m",
      "\u001b[0;31mNameError\u001b[0m: name 'simplified_class' is not defined"
     ]
    }
   ],
   "source": [
    "simplified_class.groupby(['class_name']).size()"
   ]
  },
  {
   "cell_type": "code",
   "execution_count": 296,
   "metadata": {
    "ExecuteTime": {
     "end_time": "2021-01-27T21:48:19.186147Z",
     "start_time": "2021-01-27T21:48:19.172330Z"
    }
   },
   "outputs": [
    {
     "data": {
      "text/html": [
       "<div>\n",
       "<style scoped>\n",
       "    .dataframe tbody tr th:only-of-type {\n",
       "        vertical-align: middle;\n",
       "    }\n",
       "\n",
       "    .dataframe tbody tr th {\n",
       "        vertical-align: top;\n",
       "    }\n",
       "\n",
       "    .dataframe thead th {\n",
       "        text-align: right;\n",
       "    }\n",
       "</style>\n",
       "<table border=\"1\" class=\"dataframe\">\n",
       "  <thead>\n",
       "    <tr style=\"text-align: right;\">\n",
       "      <th></th>\n",
       "      <th>class_id</th>\n",
       "      <th>class_name</th>\n",
       "      <th>class_modifier</th>\n",
       "      <th>supercategory</th>\n",
       "    </tr>\n",
       "  </thead>\n",
       "  <tbody>\n",
       "    <tr>\n",
       "      <th>291</th>\n",
       "      <td>747</td>\n",
       "      <td>Yellow-rumped Warbler</td>\n",
       "      <td>Breeding Myrtle</td>\n",
       "      <td>[Wood-Warblers, Perching Birds, Birds]</td>\n",
       "    </tr>\n",
       "    <tr>\n",
       "      <th>342</th>\n",
       "      <td>798</td>\n",
       "      <td>Yellow-rumped Warbler</td>\n",
       "      <td>Winter/juvenile Myrtle</td>\n",
       "      <td>[Wood-Warblers, Perching Birds, Birds]</td>\n",
       "    </tr>\n",
       "    <tr>\n",
       "      <th>502</th>\n",
       "      <td>958</td>\n",
       "      <td>Yellow-rumped Warbler</td>\n",
       "      <td>Breeding Audubon's</td>\n",
       "      <td>[Wood-Warblers, Perching Birds, Birds]</td>\n",
       "    </tr>\n",
       "    <tr>\n",
       "      <th>553</th>\n",
       "      <td>1009</td>\n",
       "      <td>Yellow-rumped Warbler</td>\n",
       "      <td>Winter/juvenile Audubon's</td>\n",
       "      <td>[Wood-Warblers, Perching Birds, Birds]</td>\n",
       "    </tr>\n",
       "  </tbody>\n",
       "</table>\n",
       "</div>"
      ],
      "text/plain": [
       "     class_id             class_name             class_modifier  \\\n",
       "291       747  Yellow-rumped Warbler            Breeding Myrtle   \n",
       "342       798  Yellow-rumped Warbler     Winter/juvenile Myrtle   \n",
       "502       958  Yellow-rumped Warbler         Breeding Audubon's   \n",
       "553      1009  Yellow-rumped Warbler  Winter/juvenile Audubon's   \n",
       "\n",
       "                              supercategory  \n",
       "291  [Wood-Warblers, Perching Birds, Birds]  \n",
       "342  [Wood-Warblers, Perching Birds, Birds]  \n",
       "502  [Wood-Warblers, Perching Birds, Birds]  \n",
       "553  [Wood-Warblers, Perching Birds, Birds]  "
      ]
     },
     "execution_count": 296,
     "metadata": {},
     "output_type": "execute_result"
    }
   ],
   "source": [
    "simplified_class[simplified_class.class_name == 'Yellow-rumped Warbler']"
   ]
  },
  {
   "cell_type": "code",
   "execution_count": 303,
   "metadata": {
    "ExecuteTime": {
     "end_time": "2021-01-27T21:50:37.189470Z",
     "start_time": "2021-01-27T21:50:37.139156Z"
    }
   },
   "outputs": [],
   "source": [
    "gt = image_labels.merge(ims, left_on='image_id', right_on='image_id')\n",
    "gt = gt.merge(simplified_class[['class_id', 'class_name', 'class_modifier']], left_on='class_id', right_on='class_id')\n",
    "#bc = gt.set_index(['image_name', 'class_name'])#['class_id'].unstack(level=-1).fillna(-1) >=0).astype('float')"
   ]
  },
  {
   "cell_type": "code",
   "execution_count": 308,
   "metadata": {
    "ExecuteTime": {
     "end_time": "2021-01-27T21:52:53.773312Z",
     "start_time": "2021-01-27T21:52:53.707878Z"
    }
   },
   "outputs": [],
   "source": [
    "gttmp = gt[['image_name', 'class_name']].reset_index().set_index(['image_name', 'class_name'])['index']\n",
    "\n",
    "#.unstack(level=-1)"
   ]
  },
  {
   "cell_type": "code",
   "execution_count": 314,
   "metadata": {
    "ExecuteTime": {
     "end_time": "2021-01-27T21:53:52.148398Z",
     "start_time": "2021-01-27T21:53:51.544623Z"
    }
   },
   "outputs": [],
   "source": [
    "simple_gt = gttmp.unstack(level=-1, fill_value=-1).ge(0).astype('float')"
   ]
  },
  {
   "cell_type": "code",
   "execution_count": 316,
   "metadata": {
    "ExecuteTime": {
     "end_time": "2021-01-27T21:54:02.686763Z",
     "start_time": "2021-01-27T21:54:02.530106Z"
    }
   },
   "outputs": [
    {
     "data": {
      "text/plain": [
       "True"
      ]
     },
     "execution_count": 316,
     "metadata": {},
     "output_type": "execute_result"
    }
   ],
   "source": [
    "(simple_gt.sum(axis=1) == 1).all()"
   ]
  },
  {
   "cell_type": "code",
   "execution_count": 319,
   "metadata": {
    "ExecuteTime": {
     "end_time": "2021-01-27T21:54:32.144823Z",
     "start_time": "2021-01-27T21:54:31.997984Z"
    }
   },
   "outputs": [
    {
     "data": {
      "text/plain": [
       "class_name\n",
       "Cackling Goose            31.0\n",
       "Bank Swallow              35.0\n",
       "Northwestern Crow         36.0\n",
       "Pacific Wren              37.0\n",
       "Scaled Quail              39.0\n",
       "                         ...  \n",
       "American Goldfinch       240.0\n",
       "Red-tailed Hawk          298.0\n",
       "European Starling        308.0\n",
       "Dark-eyed Junco          362.0\n",
       "Yellow-rumped Warbler    435.0\n",
       "Length: 404, dtype: float64"
      ]
     },
     "execution_count": 319,
     "metadata": {},
     "output_type": "execute_result"
    }
   ],
   "source": [
    "simple_gt.sum().sort_values()"
   ]
  },
  {
   "cell_type": "code",
   "execution_count": 30,
   "metadata": {
    "ExecuteTime": {
     "end_time": "2021-10-01T14:42:04.951212Z",
     "start_time": "2021-10-01T14:42:04.825925Z"
    }
   },
   "outputs": [],
   "source": [
    "df = pd.read_parquet('./data/nabirds_most_specific_classes_gt.parquet')"
   ]
  },
  {
   "cell_type": "code",
   "execution_count": 355,
   "metadata": {
    "ExecuteTime": {
     "end_time": "2021-10-03T18:33:07.240030Z",
     "start_time": "2021-10-03T18:33:07.174697Z"
    }
   },
   "outputs": [],
   "source": [
    "idpg = fetch_page(id_url)"
   ]
  },
  {
   "cell_type": "code",
   "execution_count": 358,
   "metadata": {
    "ExecuteTime": {
     "end_time": "2021-10-03T18:33:56.267684Z",
     "start_time": "2021-10-03T18:33:56.263635Z"
    }
   },
   "outputs": [],
   "source": [
    "base = '/html/body/div[2]/main/section[4]/ul/'\n",
    "p = idpg.xpath(base  + 'li[1]/div')[0]"
   ]
  },
  {
   "cell_type": "code",
   "execution_count": 379,
   "metadata": {
    "ExecuteTime": {
     "end_time": "2021-10-03T18:52:31.459825Z",
     "start_time": "2021-10-03T18:52:31.455447Z"
    }
   },
   "outputs": [],
   "source": [
    "# p.cssselect('aside > img')[0].attrib['data-interchange']\n",
    "# p.cssselect('aside > p').text_content()"
   ]
  },
  {
   "cell_type": "code",
   "execution_count": 380,
   "metadata": {
    "ExecuteTime": {
     "end_time": "2021-10-03T18:52:40.361771Z",
     "start_time": "2021-10-03T18:52:40.358364Z"
    }
   },
   "outputs": [],
   "source": [
    "item = fkeys[0]"
   ]
  },
  {
   "cell_type": "code",
   "execution_count": 390,
   "metadata": {
    "ExecuteTime": {
     "end_time": "2021-10-03T19:01:52.456028Z",
     "start_time": "2021-10-03T19:01:52.450270Z"
    }
   },
   "outputs": [
    {
     "data": {
      "text/plain": [
       "[]"
      ]
     },
     "execution_count": 390,
     "metadata": {},
     "output_type": "execute_result"
    }
   ],
   "source": [
    "item.cssselect('div > aside > div.video-responsive')"
   ]
  },
  {
   "cell_type": "code",
   "execution_count": 410,
   "metadata": {
    "ExecuteTime": {
     "end_time": "2021-10-03T19:16:48.926416Z",
     "start_time": "2021-10-03T19:16:48.923129Z"
    }
   },
   "outputs": [],
   "source": [
    "x = 'ah ...   '"
   ]
  },
  {
   "cell_type": "code",
   "execution_count": 470,
   "metadata": {
    "ExecuteTime": {
     "end_time": "2021-10-03T20:24:32.741286Z",
     "start_time": "2021-10-03T20:24:32.737780Z"
    }
   },
   "outputs": [],
   "source": [
    "del entry"
   ]
  },
  {
   "cell_type": "code",
   "execution_count": 504,
   "metadata": {
    "ExecuteTime": {
     "end_time": "2021-10-03T20:57:03.806434Z",
     "start_time": "2021-10-03T20:57:03.781163Z"
    }
   },
   "outputs": [],
   "source": [
    "from tqdm.auto import tqdm\n",
    "from lxml import html\n",
    "import requests\n",
    "import urllib\n",
    "import pandas as pd\n",
    "\n",
    "def fetch_page(url):\n",
    "    header_dict = { ## seems to return 403 without this string.\n",
    "        'User-Agent':'Mozilla/5.0 (Macintosh; Intel Mac OS X 10_15_7) AppleWebKit/537.36 (KHTML, like Gecko) Chrome/94.0.4606.61 Safari/537.36',\n",
    "    }\n",
    "\n",
    "    page = requests.get(url, headers=header_dict)\n",
    "    pg = html.fromstring(page.text)\n",
    "    return pg\n",
    "\n",
    "def get_id_info(species_name):\n",
    "    sp = species_name\n",
    "    cname = sp.replace(\"'\",\"\").replace(\" \", \"_\")\n",
    "    comp_url = f'https://www.allaboutbirds.org/guide/{cname}/species-compare'\n",
    "    id_url = f'https://www.allaboutbirds.org/guide/{cname}/id'\n",
    "    \n",
    "    idpg = fetch_page(id_url)\n",
    "    if len(idpg.cssselect('ul.four-keys')) > 0:\n",
    "        ## some pages don't have this\n",
    "        id_vals = process_basic_id(idpg)\n",
    "    else:\n",
    "        id_vals = None\n",
    "    \n",
    "    compg = fetch_page(comp_url)\n",
    "    \n",
    "    if len(compg.cssselect('div.main-species')) > 0:\n",
    "        main_id = get_main(compg)\n",
    "    else:\n",
    "        main_id = []\n",
    "        \n",
    "    if len(compg.cssselect('div.similar-species')) > 0:\n",
    "        similar_ids = get_similar(compg)\n",
    "    else:\n",
    "        similar_ids = []\n",
    "    \n",
    "    return {'species':sp, \n",
    "            'cname': cname,\n",
    "            'features_url':id_url,\n",
    "            'features':id_vals, \n",
    "            'similar_to_url':comp_url,\n",
    "            'examples':main_id, \n",
    "            'similar_to':similar_ids}\n",
    "\n",
    "\n",
    "def process_id_listitem(item):\n",
    "    ps = item.cssselect('div > article > p')\n",
    "    text = []\n",
    "    for p in ps:\n",
    "        t = p.text_content()\n",
    "        if t != '':\n",
    "            tt = t.rstrip('. ')\n",
    "            text.append(tt)\n",
    "    \n",
    "    desc = '. '.join(text)\n",
    "    imgs = item.cssselect('div > aside > img')\n",
    "\n",
    "    ## desc missing image 'https://www.allaboutbirds.org/guide/Black_Tern/id'\n",
    "    if len(imgs) > 0:\n",
    "        img = imgs[0]\n",
    "        image_alt = img.attrib['alt']\n",
    "        image_url = img.attrib['data-interchange'].split(',')[0].replace('[','')\n",
    "    else:\n",
    "        image_alt = None\n",
    "        image_url = None\n",
    "        \n",
    "    return {'description':desc, 'image_url':image_url, 'image_alt':image_alt}\n",
    "\n",
    "\n",
    "def process_basic_id(idpg):\n",
    "    fkeys = idpg.cssselect('ul.four-keys')[0].getchildren()\n",
    "    ks = ['size_and_shape', 'color_pattern']\n",
    "    lis = zip(['size_and_shape', 'color_pattern'], fkeys)\n",
    "    desc = {}\n",
    "    for (info,item) in lis:\n",
    "        desc[info] = process_id_listitem(item)\n",
    "        \n",
    "    return desc\n",
    "\n",
    "def process_entry(entry):\n",
    "    link = entry.cssselect('h3 > a')\n",
    "    if len(link) > 0:\n",
    "        species = link[0].attrib['href'].split('/')[2]\n",
    "    else:\n",
    "        return {}\n",
    "        \n",
    "    diff_desc = entry.cssselect('div.annotation-txt > p')[0].text_content()\n",
    "    if diff_desc == '':\n",
    "        diff_desc = None\n",
    "\n",
    "    attributes = entry.cssselect('div.annotation-txt > h5 ')\n",
    "    if len(attributes) == 0:\n",
    "        attribute = None\n",
    "    else:\n",
    "        attribute = attributes[0].text_content()\n",
    "        \n",
    "    img = entry.cssselect('img')[0]\n",
    "    image_alt = img.attrib['alt']\n",
    "    image_url = img.attrib['data-interchange'].split(',')[0].replace('[','')\n",
    "    return {'sim_species':species, \n",
    "            'description':diff_desc, \n",
    "            'attribute':attribute, \n",
    "            'image_url':image_url,\n",
    "            'image_alt':image_alt\n",
    "           }\n",
    "\n",
    "\n",
    "def process_img_item(item):\n",
    "    img = item.cssselect('img')[0]\n",
    "    img_alt = img.attrib['alt']\n",
    "    img_url = img.attrib['data-interchange'].split(',')[0].replace('[', '')\n",
    "    \n",
    "    desc = item.cssselect('div.annotation-txt > p')[0].text_content() \n",
    "    if desc== '':\n",
    "        desc = None\n",
    "    \n",
    "    attributes = item.cssselect('div.annotation-txt > h5 ')\n",
    "    if len(attributes) == 0:\n",
    "        attribute = None\n",
    "    else:\n",
    "        attribute = attributes[0].text_content()\n",
    "    \n",
    "    return {'image_url':img_url, \n",
    "            'image_alt':img_alt,\n",
    "            'description':desc,\n",
    "            'attribute':attribute}\n",
    "\n",
    "def get_similar(pg):\n",
    "    sim_species = pg.cssselect(' div.similar-species > div ')[0].getchildren()\n",
    "    similar = []\n",
    "    for entry in sim_species:\n",
    "        ent = process_entry(entry)\n",
    "        similar.append(ent)\n",
    "    return similar\n",
    "\n",
    "\n",
    "def get_main(pg):\n",
    "    items = pg.cssselect('div.main-species > div.compare-main > li')\n",
    "    descs = []\n",
    "    for item in items:\n",
    "        imgs = item.cssselect('img') ## 0 or 1\n",
    "        videos = item.cssselect('div.video-responsive') ## 0 or 1\n",
    "\n",
    "        if len(imgs) > 0:\n",
    "            desc = process_img_item(item)\n",
    "            descs.append(desc)\n",
    "        elif len(videos) > 0:\n",
    "            continue ## not doing anything about videos right now\n",
    "            \n",
    "    return descs"
   ]
  },
  {
   "cell_type": "code",
   "execution_count": 475,
   "metadata": {
    "ExecuteTime": {
     "end_time": "2021-10-03T20:33:42.372679Z",
     "start_time": "2021-10-03T20:33:42.368967Z"
    }
   },
   "outputs": [],
   "source": [
    "import pickle"
   ]
  },
  {
   "cell_type": "code",
   "execution_count": 476,
   "metadata": {
    "ExecuteTime": {
     "end_time": "2021-10-03T20:33:42.575973Z",
     "start_time": "2021-10-03T20:33:42.572721Z"
    }
   },
   "outputs": [],
   "source": [
    "import json"
   ]
  },
  {
   "cell_type": "code",
   "execution_count": 511,
   "metadata": {
    "ExecuteTime": {
     "end_time": "2021-10-03T21:04:22.147169Z",
     "start_time": "2021-10-03T21:04:22.143738Z"
    }
   },
   "outputs": [],
   "source": [
    "#json.dump(data, open('./data/nabirds_meta.json', 'w'))"
   ]
  },
  {
   "cell_type": "code",
   "execution_count": 512,
   "metadata": {
    "ExecuteTime": {
     "end_time": "2021-10-03T21:04:27.425037Z",
     "start_time": "2021-10-03T21:04:27.420900Z"
    }
   },
   "outputs": [],
   "source": [
    "for ent in data:\n",
    "    break"
   ]
  },
  {
   "cell_type": "code",
   "execution_count": 519,
   "metadata": {
    "ExecuteTime": {
     "end_time": "2021-10-04T14:11:08.003733Z",
     "start_time": "2021-10-04T14:11:07.998707Z"
    }
   },
   "outputs": [
    {
     "data": {
      "text/plain": [
       "'hi'"
      ]
     },
     "execution_count": 519,
     "metadata": {},
     "output_type": "execute_result"
    }
   ],
   "source": [
    "str('hi')"
   ]
  },
  {
   "cell_type": "code",
   "execution_count": 541,
   "metadata": {
    "ExecuteTime": {
     "end_time": "2021-10-04T14:16:17.048031Z",
     "start_time": "2021-10-04T14:16:17.042855Z"
    }
   },
   "outputs": [],
   "source": [
    "def get_image_urls(ent):\n",
    "    urls = []\n",
    "    for ln in json.dumps(ent).split(' '):\n",
    "        if ln.find('.jpg\"')>= 0:\n",
    "            url = ln.strip(',\"')\n",
    "            urls.append(url)\n",
    "            \n",
    "    return urls"
   ]
  },
  {
   "cell_type": "code",
   "execution_count": 544,
   "metadata": {
    "ExecuteTime": {
     "end_time": "2021-10-04T14:17:49.769052Z",
     "start_time": "2021-10-04T14:17:49.765159Z"
    }
   },
   "outputs": [],
   "source": [
    "eiu = get_image_urls(ent)"
   ]
  },
  {
   "cell_type": "code",
   "execution_count": 545,
   "metadata": {
    "ExecuteTime": {
     "end_time": "2021-10-04T14:18:31.812280Z",
     "start_time": "2021-10-04T14:18:31.808524Z"
    }
   },
   "outputs": [],
   "source": [
    "all_urls = set()"
   ]
  },
  {
   "cell_type": "code",
   "execution_count": 548,
   "metadata": {
    "ExecuteTime": {
     "end_time": "2021-10-04T14:19:14.974062Z",
     "start_time": "2021-10-04T14:19:14.968918Z"
    }
   },
   "outputs": [
    {
     "data": {
      "text/plain": [
       "{1, 2}"
      ]
     },
     "execution_count": 548,
     "metadata": {},
     "output_type": "execute_result"
    }
   ],
   "source": [
    "all_urls"
   ]
  },
  {
   "cell_type": "code",
   "execution_count": 549,
   "metadata": {
    "ExecuteTime": {
     "end_time": "2021-10-04T14:19:24.808492Z",
     "start_time": "2021-10-04T14:19:24.717348Z"
    }
   },
   "outputs": [
    {
     "data": {
      "application/vnd.jupyter.widget-view+json": {
       "model_id": "0acd999088a840e9905936ee98364083",
       "version_major": 2,
       "version_minor": 0
      },
      "text/plain": [
       "  0%|          | 0/404 [00:00<?, ?it/s]"
      ]
     },
     "metadata": {},
     "output_type": "display_data"
    }
   ],
   "source": [
    "all_urls = set()\n",
    "for ent in tqdm(data):\n",
    "    ent_urls = get_image_urls(ent)\n",
    "    all_urls.update(ent_urls)"
   ]
  },
  {
   "cell_type": "code",
   "execution_count": null,
   "metadata": {},
   "outputs": [],
   "source": []
  },
  {
   "cell_type": "code",
   "execution_count": 550,
   "metadata": {
    "ExecuteTime": {
     "end_time": "2021-10-04T14:19:29.467021Z",
     "start_time": "2021-10-04T14:19:29.461695Z"
    }
   },
   "outputs": [
    {
     "data": {
      "text/plain": [
       "5144"
      ]
     },
     "execution_count": 550,
     "metadata": {},
     "output_type": "execute_result"
    }
   ],
   "source": [
    "len(all_urls)"
   ]
  },
  {
   "cell_type": "code",
   "execution_count": 505,
   "metadata": {
    "ExecuteTime": {
     "end_time": "2021-10-03T21:02:25.040335Z",
     "start_time": "2021-10-03T20:57:09.073390Z"
    }
   },
   "outputs": [
    {
     "data": {
      "application/vnd.jupyter.widget-view+json": {
       "model_id": "769db3518b904d869dd480e671b86d4f",
       "version_major": 2,
       "version_minor": 0
      },
      "text/plain": [
       "  0%|          | 0/365 [00:00<?, ?it/s]"
      ]
     },
     "metadata": {},
     "output_type": "display_data"
    }
   ],
   "source": [
    "species = df.columns.values\n",
    "#data = []\n",
    "for c in tqdm(species[39:]):\n",
    "    info = get_id_info(c)\n",
    "    data.append(info)"
   ]
  },
  {
   "cell_type": "code",
   "execution_count": 552,
   "metadata": {
    "ExecuteTime": {
     "end_time": "2021-10-04T14:24:19.721009Z",
     "start_time": "2021-10-04T14:24:19.717390Z"
    }
   },
   "outputs": [],
   "source": [
    "import os"
   ]
  },
  {
   "cell_type": "code",
   "execution_count": 588,
   "metadata": {
    "ExecuteTime": {
     "end_time": "2021-10-04T15:08:02.032715Z",
     "start_time": "2021-10-04T15:08:02.028484Z"
    }
   },
   "outputs": [],
   "source": [
    "local_root = '/big_fast_drive2/orm/bird_guide/images/'\n",
    "remote_root = 'https://www.allaboutbirds.org/'\n",
    "\n",
    "# '/big_fast_drive2/orm/bird_guide/images/'\n",
    "os.makedirs(local_root, exist_ok=True)"
   ]
  },
  {
   "cell_type": "code",
   "execution_count": null,
   "metadata": {
    "ExecuteTime": {
     "end_time": "2021-10-04T15:33:46.417857Z",
     "start_time": "2021-10-04T15:09:58.450493Z"
    }
   },
   "outputs": [],
   "source": [
    "opener = urllib.request.build_opener()\n",
    "opener.addheaders = [('User-agent', 'Mozilla/5.0')]\n",
    "urllib.request.install_opener(opener)\n",
    "\n",
    "errs = []\n",
    "for url in tqdm(all_urls):\n",
    "    try:\n",
    "        path = url.replace(remote_root, '')\n",
    "        parts = path.split('/')\n",
    "        prefix = '/'.join(parts[:-1])\n",
    "        fname = parts[-1]\n",
    "        os.makedirs(f'{local_root}/{prefix}', exist_ok=True)\n",
    "        opath = f'{local_root}/{prefix}/{fname}'\n",
    "        [fname, _] = urllib.request.urlretrieve(url, filename=opath)\n",
    "        print(f'downloaded {url} to {opath}')\n",
    "    except KeyboardInterrupt as e:\n",
    "        raise e\n",
    "    except Exception as e:\n",
    "        print(f'failed to download image {url}... exception: {e}')\n",
    "        errs.append(url)\n",
    "        continue"
   ]
  },
  {
   "cell_type": "code",
   "execution_count": 593,
   "metadata": {
    "ExecuteTime": {
     "end_time": "2021-10-04T15:48:40.459314Z",
     "start_time": "2021-10-04T15:48:40.456023Z"
    }
   },
   "outputs": [],
   "source": [
    "### what's the evaluation task:\n",
    "#### eg you have a video of birds\n",
    "### eg. you have a bird dataset and want to retrieve images using domain vocabulary\n",
    "\n",
    "### out of sample images of birds. eg. can you do tasks better on them?"
   ]
  },
  {
   "cell_type": "code",
   "execution_count": null,
   "metadata": {},
   "outputs": [],
   "source": [
    "#### 1. system to help leverage existing domain knowledge beyond what is available in model\n",
    "#### base exp: can I fine tune clip to work well with birds\n",
    "### which task will i do? one shot classification using scientific name seems not too useful.\n",
    "####\n",
    "#### similarity search from images is an easy task to measure.\n",
    "### so is object detection.\n",
    "#### developing a video pipeline may be a good task as well.\n",
    "\n",
    "### attribute search:\n",
    "### birds with beak such and such\n",
    "\n",
    "## what is the interactive component here...: refine by attribute. 'like this image but with more x'\n",
    "### generating prompts\n",
    "\n",
    "\n",
    "#### 2. system to help searches with interactive attribute refinement.\n",
    "### alternative 2: interactive attribute refinement"
   ]
  },
  {
   "cell_type": "code",
   "execution_count": 594,
   "metadata": {
    "ExecuteTime": {
     "end_time": "2021-10-05T01:36:54.608845Z",
     "start_time": "2021-10-05T01:36:53.542505Z"
    }
   },
   "outputs": [],
   "source": [
    "import pytorch_lightning as pl\n",
    "import transformers\n",
    "import clip"
   ]
  },
  {
   "cell_type": "code",
   "execution_count": 625,
   "metadata": {
    "ExecuteTime": {
     "end_time": "2021-10-05T02:14:39.270932Z",
     "start_time": "2021-10-05T02:14:39.261044Z"
    }
   },
   "outputs": [],
   "source": [
    "def load_model():\n",
    "    variant =\"ViT-B/32\"\n",
    "    jit = False\n",
    "    model,_ = clip.load(variant, device='cpu',  jit=jit)\n",
    "    return model\n",
    "\n",
    "class StringEncoder(object):\n",
    "    def __init__(self, model, device):\n",
    "        self.device = device #next(iter(clean_weights.items()))[1].device\n",
    "        self.model = model.to(device)\n",
    "        self.original_weights = copy.deepcopy(model.state_dict())\n",
    "        self.reset() # dont update the original model\n",
    "        \n",
    "    def encode_string(self, string):\n",
    "        model = self.model.eval()\n",
    "        with torch.no_grad():\n",
    "            ttext = clip.tokenize([string])\n",
    "            text_features = model.encode_text(ttext.to(self.device))\n",
    "            text_features = text_features / text_features.norm(dim=-1, keepdim=True)\n",
    "            return text_features.detach().cpu().numpy()\n",
    "        \n",
    "    def reset(self):\n",
    "        self.model.load_state_dict(copy.deepcopy(self.original_weights))"
   ]
  },
  {
   "cell_type": "code",
   "execution_count": 626,
   "metadata": {
    "ExecuteTime": {
     "end_time": "2021-10-05T02:14:39.660879Z",
     "start_time": "2021-10-05T02:14:39.654213Z"
    }
   },
   "outputs": [],
   "source": [
    "import torch\n",
    "class MappableDataset(torch.utils.data.Dataset):\n",
    "    def __init__(self, ds, tx):\n",
    "        self.ds = ds\n",
    "        self.tx = tx\n",
    "        \n",
    "    def map(self, tx):\n",
    "        return MappableDataset(self, tx=tx)\n",
    "        \n",
    "    def __getitem__(self, idx):\n",
    "        return self.tx(self.ds[idx])\n",
    "        \n",
    "    def __len__(self):\n",
    "        return len(self.ds)\n",
    "    \n",
    "import torchvision.transforms as T"
   ]
  },
  {
   "cell_type": "code",
   "execution_count": 627,
   "metadata": {
    "ExecuteTime": {
     "end_time": "2021-10-05T02:14:42.132529Z",
     "start_time": "2021-10-05T02:14:42.119618Z"
    }
   },
   "outputs": [],
   "source": [
    "from torchvision.transforms import Compose, Resize, CenterCrop, ToTensor, Normalize\n",
    "\n",
    "def img_transform(n_px):\n",
    "    return Compose([\n",
    "        Resize(n_px, interpolation=T.InterpolationMode.BICUBIC),\n",
    "        CenterCrop(n_px),\n",
    "        lambda image: image.convert(\"RGB\"),\n",
    "        ToTensor(),\n",
    "        Normalize((0.48145466, 0.4578275, 0.40821073), (0.26862954, 0.26130258, 0.27577711)),\n",
    "    ])\n",
    "\n",
    "image_tx = img_transform(224)\n",
    "\n",
    "\n",
    "def tab_tx(tup):\n",
    "    title_tok = clip.tokenize(tup['description'].split('.')[0])[0]\n",
    "    #desc_tok = clip.tokenize(tup['description'])[0]\n",
    "    #genre_toks = clip.tokenize(tup['genre'])[0]\n",
    "    #     genres = list(map(lambda s : s.strip(), tup['genre'].split(',')))    \n",
    "    \n",
    "    return {'title':title_tok, \n",
    "            #'description':desc_tok,\n",
    "            #'genre':genre_toks, \n",
    "           'image':image_tx(tup['image'])}\n",
    "\n",
    "\n",
    "from torch import nn\n",
    "import torch.nn.functional as F\n",
    "import math\n",
    "\n",
    "class ContrastLoss(nn.Module):\n",
    "    def __init__(self, log_temp):\n",
    "        super().__init__()\n",
    "        self.log_temp = log_temp\n",
    "    \n",
    "    def loss(self, logits):\n",
    "        target = torch.arange(logits.shape[0]).long().to(logits.device)\n",
    "        return F.cross_entropy(logits, target, reduction='mean')\n",
    "    \n",
    "    def forward(self, vecs1, vecs2):\n",
    "        assert vecs1.shape == vecs2.shape\n",
    "        # cosine similarity as logits\n",
    "        logits = (math.exp(self.log_temp) * vecs1) @ vecs2.t()\n",
    "        return self.loss(logits) + self.loss(logits.t())"
   ]
  },
  {
   "cell_type": "code",
   "execution_count": 673,
   "metadata": {
    "ExecuteTime": {
     "end_time": "2021-10-05T02:30:41.892277Z",
     "start_time": "2021-10-05T02:30:41.879311Z"
    }
   },
   "outputs": [],
   "source": [
    "class MultiColumnEncoder(pl.LightningModule):\n",
    "    def __init__(self, encoder_dict, log_temp=1.):\n",
    "        super().__init__()\n",
    "        self.encoders = nn.ModuleDict(encoder_dict.items())\n",
    "        self.loss_fn = ContrastLoss(log_temp)\n",
    "        \n",
    "        \n",
    "    def forward(self, batch):\n",
    "        batch_out = {}\n",
    "        for k,v in batch.items():\n",
    "            assert k in self.encoders\n",
    "            vout = self.encoders[k](v)\n",
    "            vout = vout / (vout.norm(dim=-1,keepdim=True) + 1e-6)\n",
    "            batch_out[k] = vout\n",
    "            \n",
    "        return batch_out\n",
    "            \n",
    "    def basic_step(self, batch, train_or_val):\n",
    "        batch_out = self.forward(batch)\n",
    "        loss = self.loss_fn(batch_out['image'], batch_out['description'])\n",
    "        self.log(f'{train_or_val}_loss', loss)\n",
    "        return loss\n",
    "    \n",
    "    def validation_step(self, batch, batch_idx):\n",
    "        return self.basic_step(batch, 'val')\n",
    "    \n",
    "    def training_step(self, batch, batch_idx):\n",
    "        return self.basic_step(batch, 'train')\n",
    "    \n",
    "    def configure_optimizers(self):\n",
    "        return torch.optim.AdamW(self.parameters(), lr=0.0001)"
   ]
  },
  {
   "cell_type": "code",
   "execution_count": 667,
   "metadata": {
    "ExecuteTime": {
     "end_time": "2021-10-05T02:29:39.586640Z",
     "start_time": "2021-10-05T02:29:39.575132Z"
    }
   },
   "outputs": [],
   "source": [
    "from clip.model import CLIP\n",
    "import copy\n",
    "\n",
    "class CLIPTextEmbedding(nn.Module):\n",
    "    def __init__(self, clip_mod):\n",
    "        super().__init__()\n",
    "        \n",
    "                \n",
    "        members = ['token_embedding', \n",
    "                   'transformer', \n",
    "                   'ln_final']\n",
    "        \n",
    "        for m in members:\n",
    "            self.add_module(m, copy.deepcopy(getattr(clip_mod, m)))\n",
    "            \n",
    "        \n",
    "        self.positional_embedding = nn.Parameter(copy.deepcopy(clip_mod.positional_embedding))\n",
    "        self.text_projection = nn.Parameter(copy.deepcopy(clip_mod.text_projection))\n",
    "        \n",
    "        self.dtype = clip_mod.dtype\n",
    "        self.vocab_size = clip_mod.vocab_size\n",
    "        self.context_length = clip_mod.context_length\n",
    "\n",
    "    def forward(self, text):\n",
    "        x = self.token_embedding(text).type(self.dtype)  # [batch_size, n_ctx, d_model]\n",
    "\n",
    "        x = x + self.positional_embedding.type(self.dtype)\n",
    "        x = x.permute(1, 0, 2)  # NLD -> LND\n",
    "        x = self.transformer(x)\n",
    "        x = x.permute(1, 0, 2)  # LND -> NLD\n",
    "        x = self.ln_final(x).type(self.dtype)\n",
    "\n",
    "        # x.shape = [batch_size, n_ctx, transformer.width]\n",
    "        # take features from the eot embedding (eot_token is the highest number in each sequence)\n",
    "        x = x[torch.arange(x.shape[0]), text.argmax(dim=-1)] @ self.text_projection\n",
    "\n",
    "        return x      "
   ]
  },
  {
   "cell_type": "code",
   "execution_count": 668,
   "metadata": {
    "ExecuteTime": {
     "end_time": "2021-10-05T02:29:40.005770Z",
     "start_time": "2021-10-05T02:29:39.996471Z"
    }
   },
   "outputs": [],
   "source": [
    "class DataModule(pl.LightningDataModule):\n",
    "    def __init__(self, ds, batch_size, val_size, num_workers=4):\n",
    "        super().__init__()\n",
    "\n",
    "        self.ds = ds\n",
    "        idxs = np.random.permutation(len(ds))\n",
    "        \n",
    "        train_idxs = idxs[:-val_size]\n",
    "        val_idxs = idxs[-val_size:]\n",
    "        \n",
    "        self.train_ds = torch.utils.data.Subset(ds, indices=train_idxs)\n",
    "        self.val_ds = torch.utils.data.Subset(ds, indices=val_idxs)\n",
    "        self.batch_size = batch_size\n",
    "        self.num_workers = num_workers\n",
    "    \n",
    "    def train_dataloader(self):\n",
    "        return torch.utils.data.DataLoader(self.train_ds, batch_size=self.batch_size, \n",
    "                                           shuffle=True, num_workers=self.num_workers)\n",
    "    \n",
    "    def val_dataloader(self):\n",
    "        return torch.utils.data.DataLoader(self.val_ds, batch_size=self.batch_size, \n",
    "                                           shuffle=True, num_workers=self.num_workers)"
   ]
  },
  {
   "cell_type": "code",
   "execution_count": null,
   "metadata": {},
   "outputs": [],
   "source": []
  },
  {
   "cell_type": "code",
   "execution_count": 609,
   "metadata": {
    "ExecuteTime": {
     "end_time": "2021-10-05T01:53:38.125608Z",
     "start_time": "2021-10-05T01:53:38.085955Z"
    }
   },
   "outputs": [
    {
     "data": {
      "application/vnd.jupyter.widget-view+json": {
       "model_id": "73a35b063d394ea98c63f37683abf019",
       "version_major": 2,
       "version_minor": 0
      },
      "text/plain": [
       "  0%|          | 0/404 [00:00<?, ?it/s]"
      ]
     },
     "metadata": {},
     "output_type": "display_data"
    }
   ],
   "source": [
    "as_records = []\n",
    "for ent in tqdm(data):\n",
    "    species = ent['species']\n",
    "    cname = ent['cname']\n",
    "    \n",
    "    if ent['features'] is not None:\n",
    "        for k,v in ent['features'].items():\n",
    "            v = v.copy()\n",
    "            v['cname'] = cname\n",
    "            v['species'] = species \n",
    "            v['entry_type'] = k\n",
    "            as_records.append(v)\n",
    "    \n",
    "    for ex in ent['examples']:\n",
    "        ex = ex.copy()\n",
    "        ex['cname'] = cname\n",
    "        ex['species'] = species \n",
    "        ex['entry_type'] = 'example'\n",
    "        as_records.append(ex)\n",
    "        \n",
    "    for ex in ent['similar_to']:\n",
    "        ex = ex.copy()\n",
    "        ex['cname'] = cname\n",
    "        ex['species'] = species\n",
    "        ex['entry_type'] = 'similar_to'\n",
    "        as_records.append(ex)\n"
   ]
  },
  {
   "cell_type": "code",
   "execution_count": 631,
   "metadata": {
    "ExecuteTime": {
     "end_time": "2021-10-05T02:17:08.575584Z",
     "start_time": "2021-10-05T02:17:08.571799Z"
    }
   },
   "outputs": [],
   "source": [
    "local_root = '/big_fast_drive2/orm/bird_guide/images/'\n",
    "remote_root = 'https://www.allaboutbirds.org/'"
   ]
  },
  {
   "cell_type": "code",
   "execution_count": 614,
   "metadata": {
    "ExecuteTime": {
     "end_time": "2021-10-05T01:55:08.602336Z",
     "start_time": "2021-10-05T01:55:08.585771Z"
    }
   },
   "outputs": [],
   "source": [
    "bird_df = pd.DataFrame.from_records(as_records)"
   ]
  },
  {
   "cell_type": "code",
   "execution_count": 697,
   "metadata": {
    "ExecuteTime": {
     "end_time": "2021-10-05T13:39:51.346585Z",
     "start_time": "2021-10-05T13:39:51.295765Z"
    }
   },
   "outputs": [],
   "source": [
    "bird_df.to_parquet('./data/bird_guide_df.parquet')"
   ]
  },
  {
   "cell_type": "code",
   "execution_count": 618,
   "metadata": {
    "ExecuteTime": {
     "end_time": "2021-10-05T01:56:26.569038Z",
     "start_time": "2021-10-05T01:56:26.563299Z"
    }
   },
   "outputs": [
    {
     "data": {
      "text/plain": [
       "6162"
      ]
     },
     "execution_count": 618,
     "metadata": {},
     "output_type": "execute_result"
    }
   ],
   "source": [
    "bird_df.image_url.shape[0]"
   ]
  },
  {
   "cell_type": "code",
   "execution_count": 698,
   "metadata": {
    "ExecuteTime": {
     "end_time": "2021-10-05T13:39:59.331842Z",
     "start_time": "2021-10-05T13:39:59.328233Z"
    }
   },
   "outputs": [],
   "source": [
    "# bad_paths = []\n",
    "# path_ok = np.ones(bird_df.shape[0], dtype=np.bool8)\n",
    "# for (i,url) in enumerate(bird_df.image_url.values):\n",
    "#     if url is None or url != url:\n",
    "#         path_ok[i] = False\n",
    "#         continue\n",
    "\n",
    "#     p = local_root + url.replace('https://www.allaboutbirds.org','')\n",
    "#     if not os.path.exists(p):\n",
    "#         path_ok[i] = False\n",
    "        \n",
    "        \n",
    "# bird_df = bird_df.assign(path_ok=path_ok)"
   ]
  },
  {
   "cell_type": "code",
   "execution_count": 699,
   "metadata": {
    "ExecuteTime": {
     "end_time": "2021-10-05T13:40:06.432393Z",
     "start_time": "2021-10-05T13:40:06.422453Z"
    }
   },
   "outputs": [],
   "source": [
    "bdf1 = bird_df[(bird_df.entry_type == 'example') & (~bird_df.description.isna()) & (bird_df.path_ok)]"
   ]
  },
  {
   "cell_type": "code",
   "execution_count": 658,
   "metadata": {
    "ExecuteTime": {
     "end_time": "2021-10-05T02:27:19.130368Z",
     "start_time": "2021-10-05T02:27:19.123180Z"
    }
   },
   "outputs": [],
   "source": [
    "import PIL \n",
    "class BirdGuideDataset(MappableDataset):\n",
    "    def __init__(self, image_root, df):\n",
    "        self.image_root = image_root\n",
    "        self.df = df\n",
    "        \n",
    "    def __len__(self):\n",
    "        return self.df.shape[0]\n",
    "    \n",
    "    def __getitem__(self, idx):\n",
    "        ent = self.df.iloc[idx]\n",
    "        relpath = ent.image_url.replace('https://www.allaboutbirds.org','')\n",
    "        path = self.image_root + relpath\n",
    "        return {'image':PIL.Image.open(path), 'description':ent.description, 'species':ent.species}"
   ]
  },
  {
   "cell_type": "code",
   "execution_count": null,
   "metadata": {},
   "outputs": [],
   "source": []
  },
  {
   "cell_type": "code",
   "execution_count": 693,
   "metadata": {
    "ExecuteTime": {
     "end_time": "2021-10-05T13:39:15.920577Z",
     "start_time": "2021-10-05T13:39:15.916733Z"
    }
   },
   "outputs": [],
   "source": [
    "bgds = BirdGuideDataset(image_root='/big_fast_drive2/orm/bird_guide/images/', df=bdf1)"
   ]
  },
  {
   "cell_type": "code",
   "execution_count": 694,
   "metadata": {
    "ExecuteTime": {
     "end_time": "2021-10-05T13:39:16.215940Z",
     "start_time": "2021-10-05T13:39:16.211272Z"
    }
   },
   "outputs": [],
   "source": [
    "txds = bgds.map(lambda tup : {'description':clip.tokenize(tup['description'].split('.')[0])[0], \n",
    "                              'image':image_tx(tup['image']) })"
   ]
  },
  {
   "cell_type": "code",
   "execution_count": 695,
   "metadata": {
    "ExecuteTime": {
     "end_time": "2021-10-05T13:39:18.171683Z",
     "start_time": "2021-10-05T13:39:18.168471Z"
    }
   },
   "outputs": [],
   "source": []
  },
  {
   "cell_type": "code",
   "execution_count": 696,
   "metadata": {
    "ExecuteTime": {
     "end_time": "2021-10-05T13:39:19.294506Z",
     "start_time": "2021-10-05T13:39:19.269066Z"
    }
   },
   "outputs": [
    {
     "data": {
      "text/plain": [
       "{'description': tensor([49406, 12944, 42274,   631,  6547,   998,  4348,   593, 15145, 41046,\n",
       "         49407,     0,     0,     0,     0,     0,     0,     0,     0,     0,\n",
       "             0,     0,     0,     0,     0,     0,     0,     0,     0,     0,\n",
       "             0,     0,     0,     0,     0,     0,     0,     0,     0,     0,\n",
       "             0,     0,     0,     0,     0,     0,     0,     0,     0,     0,\n",
       "             0,     0,     0,     0,     0,     0,     0,     0,     0,     0,\n",
       "             0,     0,     0,     0,     0,     0,     0,     0,     0,     0,\n",
       "             0,     0,     0,     0,     0,     0,     0]),\n",
       " 'image': tensor([[[-0.9748, -0.9748, -0.9748,  ..., -1.0039, -1.0039, -1.0039],\n",
       "          [-0.9748, -0.9748, -0.9748,  ..., -1.0039, -1.0185, -1.0185],\n",
       "          [-0.9748, -0.9748, -0.9748,  ..., -1.0185, -1.0331, -1.0331],\n",
       "          ...,\n",
       "          [-0.8872, -0.8288, -0.7996,  ..., -0.5076, -0.5222, -0.4930],\n",
       "          [-0.9164, -0.8580, -0.7996,  ..., -0.5076, -0.5222, -0.5076],\n",
       "          [-0.9602, -0.9018, -0.8580,  ..., -0.7996, -0.8142, -0.8288]],\n",
       " \n",
       "         [[-0.9867, -0.9867, -0.9867,  ..., -1.0167, -1.0017, -1.0017],\n",
       "          [-0.9867, -0.9867, -0.9867,  ..., -1.0167, -1.0167, -1.0167],\n",
       "          [-0.9867, -0.9867, -0.9867,  ..., -1.0317, -1.0317, -1.0317],\n",
       "          ...,\n",
       "          [-0.8816, -0.8216, -0.7616,  ..., -0.5815, -0.5965, -0.6115],\n",
       "          [-0.9117, -0.8516, -0.7766,  ..., -0.5815, -0.5815, -0.6115],\n",
       "          [-0.9567, -0.8967, -0.8366,  ..., -0.8366, -0.8516, -0.8967]],\n",
       " \n",
       "         [[-0.8119, -0.8119, -0.8403,  ..., -0.8972, -0.8972, -0.8972],\n",
       "          [-0.8403, -0.8403, -0.8545,  ..., -0.8972, -0.9114, -0.9114],\n",
       "          [-0.8403, -0.8403, -0.8545,  ..., -0.9114, -0.9256, -0.9256],\n",
       "          ...,\n",
       "          [-0.8119, -0.7550, -0.6981,  ..., -0.7123, -0.7408, -0.7408],\n",
       "          [-0.8403, -0.7834, -0.6981,  ..., -0.6555, -0.6697, -0.6981],\n",
       "          [-0.8830, -0.8261, -0.7550,  ..., -0.8403, -0.8403, -0.8688]]])}"
      ]
     },
     "execution_count": 696,
     "metadata": {},
     "output_type": "execute_result"
    }
   ],
   "source": [
    "txds[1234]"
   ]
  },
  {
   "cell_type": "code",
   "execution_count": 662,
   "metadata": {
    "ExecuteTime": {
     "end_time": "2021-10-05T02:27:42.221064Z",
     "start_time": "2021-10-05T02:27:38.555761Z"
    }
   },
   "outputs": [
    {
     "name": "stderr",
     "output_type": "stream",
     "text": [
      "/nvme_drive/vsms4_no_tensorflow/lib/python3.8/site-packages/torchvision/transforms/transforms.py:280: UserWarning: Argument interpolation should be of type InterpolationMode instead of int. Please, use InterpolationMode enum.\n",
      "  warnings.warn(\n"
     ]
    }
   ],
   "source": [
    "mod = load_model()"
   ]
  },
  {
   "cell_type": "code",
   "execution_count": 671,
   "metadata": {
    "ExecuteTime": {
     "end_time": "2021-10-05T02:30:09.345348Z",
     "start_time": "2021-10-05T02:30:09.341711Z"
    }
   },
   "outputs": [],
   "source": [
    "import numpy as np"
   ]
  },
  {
   "cell_type": "code",
   "execution_count": 701,
   "metadata": {
    "ExecuteTime": {
     "end_time": "2021-10-05T13:40:39.813832Z",
     "start_time": "2021-10-05T13:40:39.807581Z"
    }
   },
   "outputs": [
    {
     "data": {
      "text/plain": [
       "(2766, 9)"
      ]
     },
     "execution_count": 701,
     "metadata": {},
     "output_type": "execute_result"
    }
   ],
   "source": [
    "bdf1.shape"
   ]
  },
  {
   "cell_type": "code",
   "execution_count": 703,
   "metadata": {
    "ExecuteTime": {
     "end_time": "2021-10-05T14:03:12.471326Z",
     "start_time": "2021-10-05T13:45:34.201438Z"
    }
   },
   "outputs": [
    {
     "name": "stderr",
     "output_type": "stream",
     "text": [
      "GPU available: True, used: True\n",
      "TPU available: False, using: 0 TPU cores\n",
      "IPU available: False, using: 0 IPUs\n",
      "LOCAL_RANK: 0 - CUDA_VISIBLE_DEVICES: [0,1]\n"
     ]
    },
    {
     "data": {
      "application/vnd.jupyter.widget-view+json": {
       "model_id": "",
       "version_major": 2,
       "version_minor": 0
      },
      "text/plain": [
       "Validating: 0it [00:00, ?it/s]"
      ]
     },
     "metadata": {},
     "output_type": "display_data"
    },
    {
     "name": "stdout",
     "output_type": "stream",
     "text": [
      "--------------------------------------------------------------------------------\n",
      "DATALOADER:0 VALIDATE RESULTS\n",
      "{'val_loss': 8.618917465209961}\n",
      "--------------------------------------------------------------------------------\n"
     ]
    },
    {
     "name": "stderr",
     "output_type": "stream",
     "text": [
      "LOCAL_RANK: 0 - CUDA_VISIBLE_DEVICES: [0,1]\n",
      "\n",
      "  | Name     | Type         | Params\n",
      "------------------------------------------\n",
      "0 | encoders | ModuleDict   | 151 M \n",
      "1 | loss_fn  | ContrastLoss | 0     \n",
      "------------------------------------------\n",
      "151 M     Trainable params\n",
      "0         Non-trainable params\n",
      "151 M     Total params\n",
      "605.109   Total estimated model params size (MB)\n",
      "/nvme_drive/vsms4_no_tensorflow/lib/python3.8/site-packages/pytorch_lightning/trainer/data_loading.py:326: UserWarning: The number of training samples (19) is smaller than the logging interval Trainer(log_every_n_steps=50). Set a lower value for log_every_n_steps if you want to see logs for the training epoch.\n",
      "  rank_zero_warn(\n"
     ]
    },
    {
     "data": {
      "application/vnd.jupyter.widget-view+json": {
       "model_id": "078aac7cbfd446d49910512f78199061",
       "version_major": 2,
       "version_minor": 0
      },
      "text/plain": [
       "Training: -1it [00:00, ?it/s]"
      ]
     },
     "metadata": {},
     "output_type": "display_data"
    },
    {
     "data": {
      "application/vnd.jupyter.widget-view+json": {
       "model_id": "",
       "version_major": 2,
       "version_minor": 0
      },
      "text/plain": [
       "Validating: 0it [00:00, ?it/s]"
      ]
     },
     "metadata": {},
     "output_type": "display_data"
    },
    {
     "data": {
      "application/vnd.jupyter.widget-view+json": {
       "model_id": "",
       "version_major": 2,
       "version_minor": 0
      },
      "text/plain": [
       "Validating: 0it [00:00, ?it/s]"
      ]
     },
     "metadata": {},
     "output_type": "display_data"
    },
    {
     "data": {
      "application/vnd.jupyter.widget-view+json": {
       "model_id": "",
       "version_major": 2,
       "version_minor": 0
      },
      "text/plain": [
       "Validating: 0it [00:00, ?it/s]"
      ]
     },
     "metadata": {},
     "output_type": "display_data"
    },
    {
     "data": {
      "application/vnd.jupyter.widget-view+json": {
       "model_id": "",
       "version_major": 2,
       "version_minor": 0
      },
      "text/plain": [
       "Validating: 0it [00:00, ?it/s]"
      ]
     },
     "metadata": {},
     "output_type": "display_data"
    },
    {
     "data": {
      "application/vnd.jupyter.widget-view+json": {
       "model_id": "",
       "version_major": 2,
       "version_minor": 0
      },
      "text/plain": [
       "Validating: 0it [00:00, ?it/s]"
      ]
     },
     "metadata": {},
     "output_type": "display_data"
    },
    {
     "data": {
      "application/vnd.jupyter.widget-view+json": {
       "model_id": "",
       "version_major": 2,
       "version_minor": 0
      },
      "text/plain": [
       "Validating: 0it [00:00, ?it/s]"
      ]
     },
     "metadata": {},
     "output_type": "display_data"
    },
    {
     "data": {
      "application/vnd.jupyter.widget-view+json": {
       "model_id": "",
       "version_major": 2,
       "version_minor": 0
      },
      "text/plain": [
       "Validating: 0it [00:00, ?it/s]"
      ]
     },
     "metadata": {},
     "output_type": "display_data"
    },
    {
     "data": {
      "application/vnd.jupyter.widget-view+json": {
       "model_id": "",
       "version_major": 2,
       "version_minor": 0
      },
      "text/plain": [
       "Validating: 0it [00:00, ?it/s]"
      ]
     },
     "metadata": {},
     "output_type": "display_data"
    },
    {
     "data": {
      "application/vnd.jupyter.widget-view+json": {
       "model_id": "",
       "version_major": 2,
       "version_minor": 0
      },
      "text/plain": [
       "Validating: 0it [00:00, ?it/s]"
      ]
     },
     "metadata": {},
     "output_type": "display_data"
    },
    {
     "data": {
      "application/vnd.jupyter.widget-view+json": {
       "model_id": "",
       "version_major": 2,
       "version_minor": 0
      },
      "text/plain": [
       "Validating: 0it [00:00, ?it/s]"
      ]
     },
     "metadata": {},
     "output_type": "display_data"
    },
    {
     "data": {
      "application/vnd.jupyter.widget-view+json": {
       "model_id": "",
       "version_major": 2,
       "version_minor": 0
      },
      "text/plain": [
       "Validating: 0it [00:00, ?it/s]"
      ]
     },
     "metadata": {},
     "output_type": "display_data"
    },
    {
     "data": {
      "application/vnd.jupyter.widget-view+json": {
       "model_id": "",
       "version_major": 2,
       "version_minor": 0
      },
      "text/plain": [
       "Validating: 0it [00:00, ?it/s]"
      ]
     },
     "metadata": {},
     "output_type": "display_data"
    },
    {
     "data": {
      "application/vnd.jupyter.widget-view+json": {
       "model_id": "",
       "version_major": 2,
       "version_minor": 0
      },
      "text/plain": [
       "Validating: 0it [00:00, ?it/s]"
      ]
     },
     "metadata": {},
     "output_type": "display_data"
    },
    {
     "data": {
      "application/vnd.jupyter.widget-view+json": {
       "model_id": "",
       "version_major": 2,
       "version_minor": 0
      },
      "text/plain": [
       "Validating: 0it [00:00, ?it/s]"
      ]
     },
     "metadata": {},
     "output_type": "display_data"
    },
    {
     "data": {
      "application/vnd.jupyter.widget-view+json": {
       "model_id": "",
       "version_major": 2,
       "version_minor": 0
      },
      "text/plain": [
       "Validating: 0it [00:00, ?it/s]"
      ]
     },
     "metadata": {},
     "output_type": "display_data"
    },
    {
     "data": {
      "application/vnd.jupyter.widget-view+json": {
       "model_id": "",
       "version_major": 2,
       "version_minor": 0
      },
      "text/plain": [
       "Validating: 0it [00:00, ?it/s]"
      ]
     },
     "metadata": {},
     "output_type": "display_data"
    },
    {
     "data": {
      "application/vnd.jupyter.widget-view+json": {
       "model_id": "",
       "version_major": 2,
       "version_minor": 0
      },
      "text/plain": [
       "Validating: 0it [00:00, ?it/s]"
      ]
     },
     "metadata": {},
     "output_type": "display_data"
    },
    {
     "data": {
      "application/vnd.jupyter.widget-view+json": {
       "model_id": "",
       "version_major": 2,
       "version_minor": 0
      },
      "text/plain": [
       "Validating: 0it [00:00, ?it/s]"
      ]
     },
     "metadata": {},
     "output_type": "display_data"
    },
    {
     "data": {
      "application/vnd.jupyter.widget-view+json": {
       "model_id": "",
       "version_major": 2,
       "version_minor": 0
      },
      "text/plain": [
       "Validating: 0it [00:00, ?it/s]"
      ]
     },
     "metadata": {},
     "output_type": "display_data"
    },
    {
     "data": {
      "application/vnd.jupyter.widget-view+json": {
       "model_id": "",
       "version_major": 2,
       "version_minor": 0
      },
      "text/plain": [
       "Validating: 0it [00:00, ?it/s]"
      ]
     },
     "metadata": {},
     "output_type": "display_data"
    },
    {
     "data": {
      "application/vnd.jupyter.widget-view+json": {
       "model_id": "",
       "version_major": 2,
       "version_minor": 0
      },
      "text/plain": [
       "Validating: 0it [00:00, ?it/s]"
      ]
     },
     "metadata": {},
     "output_type": "display_data"
    },
    {
     "data": {
      "application/vnd.jupyter.widget-view+json": {
       "model_id": "",
       "version_major": 2,
       "version_minor": 0
      },
      "text/plain": [
       "Validating: 0it [00:00, ?it/s]"
      ]
     },
     "metadata": {},
     "output_type": "display_data"
    },
    {
     "data": {
      "application/vnd.jupyter.widget-view+json": {
       "model_id": "",
       "version_major": 2,
       "version_minor": 0
      },
      "text/plain": [
       "Validating: 0it [00:00, ?it/s]"
      ]
     },
     "metadata": {},
     "output_type": "display_data"
    },
    {
     "data": {
      "application/vnd.jupyter.widget-view+json": {
       "model_id": "",
       "version_major": 2,
       "version_minor": 0
      },
      "text/plain": [
       "Validating: 0it [00:00, ?it/s]"
      ]
     },
     "metadata": {},
     "output_type": "display_data"
    },
    {
     "data": {
      "application/vnd.jupyter.widget-view+json": {
       "model_id": "",
       "version_major": 2,
       "version_minor": 0
      },
      "text/plain": [
       "Validating: 0it [00:00, ?it/s]"
      ]
     },
     "metadata": {},
     "output_type": "display_data"
    },
    {
     "data": {
      "application/vnd.jupyter.widget-view+json": {
       "model_id": "",
       "version_major": 2,
       "version_minor": 0
      },
      "text/plain": [
       "Validating: 0it [00:00, ?it/s]"
      ]
     },
     "metadata": {},
     "output_type": "display_data"
    },
    {
     "data": {
      "application/vnd.jupyter.widget-view+json": {
       "model_id": "",
       "version_major": 2,
       "version_minor": 0
      },
      "text/plain": [
       "Validating: 0it [00:00, ?it/s]"
      ]
     },
     "metadata": {},
     "output_type": "display_data"
    },
    {
     "data": {
      "application/vnd.jupyter.widget-view+json": {
       "model_id": "",
       "version_major": 2,
       "version_minor": 0
      },
      "text/plain": [
       "Validating: 0it [00:00, ?it/s]"
      ]
     },
     "metadata": {},
     "output_type": "display_data"
    },
    {
     "data": {
      "application/vnd.jupyter.widget-view+json": {
       "model_id": "",
       "version_major": 2,
       "version_minor": 0
      },
      "text/plain": [
       "Validating: 0it [00:00, ?it/s]"
      ]
     },
     "metadata": {},
     "output_type": "display_data"
    },
    {
     "data": {
      "application/vnd.jupyter.widget-view+json": {
       "model_id": "",
       "version_major": 2,
       "version_minor": 0
      },
      "text/plain": [
       "Validating: 0it [00:00, ?it/s]"
      ]
     },
     "metadata": {},
     "output_type": "display_data"
    }
   ],
   "source": [
    "mce = MultiColumnEncoder({'image':mod.visual, 'description':CLIPTextEmbedding(mod)})\n",
    "#imdb_samps = imdb_samps.assign(got_image=pd.Series(valids))\n",
    "dm = DataModule(txds, batch_size=96, val_size=1024, num_workers=8)\n",
    "chk = pl.callbacks.ModelCheckpoint(monitor='val_loss', mode='min')\n",
    "tb_logger = pl.loggers.TensorBoardLogger(\"logs_bird_ft/\", name='try0')\n",
    "trainer = pl.Trainer(gpus=[1],max_epochs=30, \n",
    "#                      max_steps=200*41, \n",
    "#                      val_check_interval=200,\n",
    "                     num_sanity_val_steps=0,\n",
    "                     logger=[tb_logger], callbacks=[chk])\n",
    "\n",
    "trainer.validate(mce, datamodule=dm)\n",
    "trainer.fit(mce, datamodule=dm)"
   ]
  },
  {
   "cell_type": "code",
   "execution_count": 705,
   "metadata": {
    "ExecuteTime": {
     "end_time": "2021-10-05T14:06:53.774454Z",
     "start_time": "2021-10-05T14:06:53.771157Z"
    }
   },
   "outputs": [],
   "source": [
    "## now do something with this new model...\n",
    "## eg. a task on a different dataset"
   ]
  },
  {
   "cell_type": "code",
   "execution_count": 706,
   "metadata": {
    "ExecuteTime": {
     "end_time": "2021-10-05T14:27:50.981344Z",
     "start_time": "2021-10-05T14:27:50.977652Z"
    }
   },
   "outputs": [],
   "source": [
    "import torchvision"
   ]
  },
  {
   "cell_type": "code",
   "execution_count": 827,
   "metadata": {
    "ExecuteTime": {
     "end_time": "2021-10-05T19:13:58.710561Z",
     "start_time": "2021-10-05T19:13:58.440699Z"
    }
   },
   "outputs": [
    {
     "name": "stdout",
     "output_type": "stream",
     "text": [
      "===========================================\r\n",
      "The Caltech-UCSD Birds-200-2011 Dataset\r\n",
      "===========================================\r\n",
      "\r\n",
      "For more information about the dataset, visit the project website:\r\n",
      "\r\n",
      "  http://www.vision.caltech.edu/visipedia\r\n",
      "\r\n",
      "If you use the dataset in a publication, please cite the dataset in\r\n",
      "the style described on the dataset website (see url above).\r\n",
      "\r\n",
      "Directory Information\r\n",
      "---------------------\r\n",
      "\r\n",
      "- images/\r\n",
      "    The images organized in subdirectories based on species. See \r\n",
      "    IMAGES AND CLASS LABELS section below for more info.\r\n",
      "- parts/\r\n",
      "    15 part locations per image. See PART LOCATIONS section below \r\n",
      "    for more info.\r\n",
      "- attributes/\r\n",
      "    322 binary attribute labels from MTurk workers. See ATTRIBUTE LABELS \r\n",
      "    section below for more info.\r\n",
      "\r\n",
      "\r\n",
      "\r\n",
      "=========================\r\n",
      "IMAGES AND CLASS LABELS:\r\n",
      "=========================\r\n",
      "Images are contained in the directory images/, with 200 subdirectories (one for each bird species)\r\n",
      "\r\n",
      "------- List of image files (images.txt) ------\r\n",
      "The list of image file names is contained in the file images.txt, with each line corresponding to one image:\r\n",
      "\r\n",
      "<image_id> <image_name>\r\n",
      "------------------------------------------\r\n",
      "\r\n",
      "\r\n",
      "------- Train/test split (train_test_split.txt) ------\r\n",
      "The suggested train/test split is contained in the file train_test_split.txt, with each line corresponding to one image:\r\n",
      "\r\n",
      "<image_id> <is_training_image>\r\n",
      "\r\n",
      "where <image_id> corresponds to the ID in images.txt, and a value of 1 or 0 for <is_training_image> denotes that the file is in the training or test set, respectively.\r\n",
      "------------------------------------------------------\r\n",
      "\r\n",
      "\r\n",
      "------- List of class names (classes.txt) ------\r\n",
      "The list of class names (bird species) is contained in the file classes.txt, with each line corresponding to one class:\r\n",
      "\r\n",
      "<class_id> <class_name>\r\n",
      "--------------------------------------------\r\n",
      "\r\n",
      "\r\n",
      "------- Image class labels (image_class_labels.txt) ------\r\n",
      "The ground truth class labels (bird species labels) for each image are contained in the file image_class_labels.txt, with each line corresponding to one image:\r\n",
      "\r\n",
      "<image_id> <class_id>\r\n",
      "\r\n",
      "where <image_id> and <class_id> correspond to the IDs in images.txt and classes.txt, respectively.\r\n",
      "---------------------------------------------------------\r\n",
      "\r\n",
      "\r\n",
      "\r\n",
      "\r\n",
      "\r\n",
      "=========================\r\n",
      "BOUNDING BOXES:\r\n",
      "=========================\r\n",
      "\r\n",
      "Each image contains a single bounding box label.  Bounding box labels are contained in the file bounding_boxes.txt, with each line corresponding to one image:\r\n",
      "\r\n",
      "<image_id> <x> <y> <width> <height>\r\n",
      "\r\n",
      "where <image_id> corresponds to the ID in images.txt, and <x>, <y>, <width>, and <height> are all measured in pixels\r\n",
      "\r\n",
      "\r\n",
      "\r\n",
      "\r\n",
      "=========================\r\n",
      "PART LOCATIONS:\r\n",
      "=========================\r\n",
      "\r\n",
      "------- List of part names (parts/parts.txt) ------\r\n",
      "The list of all part names is contained in the file parts/parts.txt, with each line corresponding to one part:\r\n",
      "\r\n",
      "<part_id> <part_name>\r\n",
      "------------------------------------------\r\n",
      "\r\n",
      "\r\n",
      "------- Part locations (parts/part_locs.txt) ------\r\n",
      "The set of all ground truth part locations is contained in the file parts/part_locs.txt, with each line corresponding to the annotation of a particular part in a particular image:\r\n",
      "\r\n",
      "<image_id> <part_id> <x> <y> <visible>\r\n",
      "\r\n",
      "where <image_id> and <part_id> correspond to the IDs in images.txt and parts/parts.txt, respectively.  <x> and <y> denote the pixel location of the center of the part.  <visible> is 0 if the part is not visible in the image and 1 otherwise.\r\n",
      "----------------------------------------------------------\r\n",
      "\r\n",
      "\r\n",
      "------- MTurk part locations (parts/part_click_locs.txt) ------\r\n",
      "A set of multiple part locations for each image and part, as perceived by multiple MTurk users is contained in parts/part_click_locs.txt, with each line corresponding to the annotation of a particular part in a particular image by a different MTurk worker:\r\n",
      "\r\n",
      "<image_id> <part_id> <x> <y> <visible> <time>\r\n",
      "\r\n",
      "where <image_id>, <part_id>, <x>, <y> are in the same format as defined in parts/part_locs.txt, and <time> is the time in seconds spent by the MTurk worker.\r\n",
      "----------------------------------------------------------\r\n",
      "\r\n",
      "\r\n",
      "\r\n",
      "=========================\r\n",
      "ATTRIBUTE LABELS:\r\n",
      "=========================\r\n",
      "\r\n",
      "------- List of attribute names (attributes/attributes.txt) ------\r\n",
      "The list of all attribute names is contained in the file attributes/attributes.txt, with each line corresponding to one attribute:\r\n",
      "\r\n",
      "<attribute_id> <attribute_name>\r\n",
      "------------------------------------------------------------------\r\n",
      "\r\n",
      "\r\n",
      "------- List of certainty names (attributes/certainties.txt) ------\r\n",
      "The list of all certainty names (used by workers to specify their certainty of an attribute response of is contained in the file attributes/certainties.txt, with each line corresponding to one certainty:\r\n",
      "\r\n",
      "<certainty_id> <certainty_name>\r\n",
      "-------------------------------------------------------------------\r\n",
      "\r\n",
      "\r\n",
      "------- MTurk image attribute labels (attributes/image_attribute_labels.txt) ------\r\n",
      "The set of attribute labels as perceived by MTurkers for each image is contained in the file attributes/image_attribute_labels.txt, with each line corresponding to one image/attribute/worker triplet:\r\n",
      "\r\n",
      "<image_id> <attribute_id> <is_present> <certainty_id> <time>\r\n",
      "\r\n",
      "where <image_id>, <attribute_id>, <certainty_id> correspond to the IDs in images.txt, attributes/attributes.txt, and attributes/certainties.txt respectively.  <is_present> is 0 or 1 (1 denotes that the attribute is present).  <time> denotes the time spent by the MTurker in seconds.\r\n",
      "-----------------------------------------------------------------------------------\r\n",
      "\r\n",
      "\r\n",
      "------- Class attribute labels (attributes/class_attribute_labels_continuous.txt) ------\r\n",
      "Attributes on a per-class level--in a similar format to the Animals With Attributes dataset--are contained in attributes/class_attribute_labels_continuous.txt.  The file contains 200 lines and 312 space-separated columns.  Each line corresponds to one class (in the same order as classes.txt) and each column contains one real-valued number corresponding to one attribute (in the same order as attributes.txt).  The number is the percentage of the time (between 0 and 100) that a human thinks that the attribute is present for a given class\r\n",
      "----------------------------------------------------------------------------------------\r\n",
      "\r\n"
     ]
    }
   ],
   "source": [
    "cat /big_fast_drive2/orm/CUB_200_2011/CUB_200_2011/"
   ]
  },
  {
   "cell_type": "code",
   "execution_count": 831,
   "metadata": {
    "ExecuteTime": {
     "end_time": "2021-10-05T21:49:34.954386Z",
     "start_time": "2021-10-05T21:49:34.920730Z"
    }
   },
   "outputs": [],
   "source": [
    "class_attr = pd.read_csv('/big_fast_drive2/orm/CUB_200_2011/CUB_200_2011/attributes/class_attribute_labels_continuous.txt',\n",
    "                              #names=['_id', 'attribute_id', 'is_present', 'certainty_id', 'time'], \n",
    "                         header=None,\n",
    "                        delim_whitespace=True)\n"
   ]
  },
  {
   "cell_type": "code",
   "execution_count": 833,
   "metadata": {
    "ExecuteTime": {
     "end_time": "2021-10-05T21:49:59.410226Z",
     "start_time": "2021-10-05T21:49:59.395284Z"
    }
   },
   "outputs": [
    {
     "data": {
      "text/html": [
       "<div>\n",
       "<style scoped>\n",
       "    .dataframe tbody tr th:only-of-type {\n",
       "        vertical-align: middle;\n",
       "    }\n",
       "\n",
       "    .dataframe tbody tr th {\n",
       "        vertical-align: top;\n",
       "    }\n",
       "\n",
       "    .dataframe thead th {\n",
       "        text-align: right;\n",
       "    }\n",
       "</style>\n",
       "<table border=\"1\" class=\"dataframe\">\n",
       "  <thead>\n",
       "    <tr style=\"text-align: right;\">\n",
       "      <th></th>\n",
       "      <th>image_id</th>\n",
       "      <th>attribute_id</th>\n",
       "      <th>is_present</th>\n",
       "      <th>certainty_id</th>\n",
       "      <th>time</th>\n",
       "    </tr>\n",
       "  </thead>\n",
       "  <tbody>\n",
       "    <tr>\n",
       "      <th>0</th>\n",
       "      <td>1</td>\n",
       "      <td>1</td>\n",
       "      <td>0</td>\n",
       "      <td>3</td>\n",
       "      <td>27.708</td>\n",
       "    </tr>\n",
       "    <tr>\n",
       "      <th>1</th>\n",
       "      <td>1</td>\n",
       "      <td>2</td>\n",
       "      <td>0</td>\n",
       "      <td>3</td>\n",
       "      <td>27.708</td>\n",
       "    </tr>\n",
       "    <tr>\n",
       "      <th>2</th>\n",
       "      <td>1</td>\n",
       "      <td>3</td>\n",
       "      <td>0</td>\n",
       "      <td>3</td>\n",
       "      <td>27.708</td>\n",
       "    </tr>\n",
       "    <tr>\n",
       "      <th>3</th>\n",
       "      <td>1</td>\n",
       "      <td>4</td>\n",
       "      <td>0</td>\n",
       "      <td>3</td>\n",
       "      <td>27.708</td>\n",
       "    </tr>\n",
       "    <tr>\n",
       "      <th>4</th>\n",
       "      <td>1</td>\n",
       "      <td>5</td>\n",
       "      <td>1</td>\n",
       "      <td>3</td>\n",
       "      <td>27.708</td>\n",
       "    </tr>\n",
       "    <tr>\n",
       "      <th>...</th>\n",
       "      <td>...</td>\n",
       "      <td>...</td>\n",
       "      <td>...</td>\n",
       "      <td>...</td>\n",
       "      <td>...</td>\n",
       "    </tr>\n",
       "    <tr>\n",
       "      <th>3677851</th>\n",
       "      <td>11788</td>\n",
       "      <td>308</td>\n",
       "      <td>1</td>\n",
       "      <td>4</td>\n",
       "      <td>4.989</td>\n",
       "    </tr>\n",
       "    <tr>\n",
       "      <th>3677852</th>\n",
       "      <td>11788</td>\n",
       "      <td>309</td>\n",
       "      <td>0</td>\n",
       "      <td>4</td>\n",
       "      <td>8.309</td>\n",
       "    </tr>\n",
       "    <tr>\n",
       "      <th>3677853</th>\n",
       "      <td>11788</td>\n",
       "      <td>310</td>\n",
       "      <td>0</td>\n",
       "      <td>4</td>\n",
       "      <td>8.309</td>\n",
       "    </tr>\n",
       "    <tr>\n",
       "      <th>3677854</th>\n",
       "      <td>11788</td>\n",
       "      <td>311</td>\n",
       "      <td>0</td>\n",
       "      <td>4</td>\n",
       "      <td>8.309</td>\n",
       "    </tr>\n",
       "    <tr>\n",
       "      <th>3677855</th>\n",
       "      <td>11788</td>\n",
       "      <td>312</td>\n",
       "      <td>1</td>\n",
       "      <td>4</td>\n",
       "      <td>8.309</td>\n",
       "    </tr>\n",
       "  </tbody>\n",
       "</table>\n",
       "<p>3677856 rows × 5 columns</p>\n",
       "</div>"
      ],
      "text/plain": [
       "         image_id  attribute_id  is_present  certainty_id    time\n",
       "0               1             1           0             3  27.708\n",
       "1               1             2           0             3  27.708\n",
       "2               1             3           0             3  27.708\n",
       "3               1             4           0             3  27.708\n",
       "4               1             5           1             3  27.708\n",
       "...           ...           ...         ...           ...     ...\n",
       "3677851     11788           308           1             4   4.989\n",
       "3677852     11788           309           0             4   8.309\n",
       "3677853     11788           310           0             4   8.309\n",
       "3677854     11788           311           0             4   8.309\n",
       "3677855     11788           312           1             4   8.309\n",
       "\n",
       "[3677856 rows x 5 columns]"
      ]
     },
     "execution_count": 833,
     "metadata": {},
     "output_type": "execute_result"
    }
   ],
   "source": [
    "pd.merge(attribute_labels"
   ]
  },
  {
   "cell_type": "code",
   "execution_count": 832,
   "metadata": {
    "ExecuteTime": {
     "end_time": "2021-10-05T21:49:36.858514Z",
     "start_time": "2021-10-05T21:49:36.817255Z"
    }
   },
   "outputs": [
    {
     "data": {
      "text/html": [
       "<div>\n",
       "<style scoped>\n",
       "    .dataframe tbody tr th:only-of-type {\n",
       "        vertical-align: middle;\n",
       "    }\n",
       "\n",
       "    .dataframe tbody tr th {\n",
       "        vertical-align: top;\n",
       "    }\n",
       "\n",
       "    .dataframe thead th {\n",
       "        text-align: right;\n",
       "    }\n",
       "</style>\n",
       "<table border=\"1\" class=\"dataframe\">\n",
       "  <thead>\n",
       "    <tr style=\"text-align: right;\">\n",
       "      <th></th>\n",
       "      <th>0</th>\n",
       "      <th>1</th>\n",
       "      <th>2</th>\n",
       "      <th>3</th>\n",
       "      <th>4</th>\n",
       "      <th>5</th>\n",
       "      <th>6</th>\n",
       "      <th>7</th>\n",
       "      <th>8</th>\n",
       "      <th>9</th>\n",
       "      <th>...</th>\n",
       "      <th>302</th>\n",
       "      <th>303</th>\n",
       "      <th>304</th>\n",
       "      <th>305</th>\n",
       "      <th>306</th>\n",
       "      <th>307</th>\n",
       "      <th>308</th>\n",
       "      <th>309</th>\n",
       "      <th>310</th>\n",
       "      <th>311</th>\n",
       "    </tr>\n",
       "  </thead>\n",
       "  <tbody>\n",
       "    <tr>\n",
       "      <th>0</th>\n",
       "      <td>0.000000</td>\n",
       "      <td>2.919708</td>\n",
       "      <td>1.459854</td>\n",
       "      <td>0.000000</td>\n",
       "      <td>59.854015</td>\n",
       "      <td>26.277372</td>\n",
       "      <td>3.649635</td>\n",
       "      <td>5.839416</td>\n",
       "      <td>0.000000</td>\n",
       "      <td>1.639344</td>\n",
       "      <td>...</td>\n",
       "      <td>0.000000</td>\n",
       "      <td>0.000000</td>\n",
       "      <td>21.276596</td>\n",
       "      <td>11.347518</td>\n",
       "      <td>2.12766</td>\n",
       "      <td>31.914894</td>\n",
       "      <td>53.571429</td>\n",
       "      <td>5.357143</td>\n",
       "      <td>21.428571</td>\n",
       "      <td>19.642857</td>\n",
       "    </tr>\n",
       "    <tr>\n",
       "      <th>1</th>\n",
       "      <td>4.411765</td>\n",
       "      <td>4.411765</td>\n",
       "      <td>2.941176</td>\n",
       "      <td>1.470588</td>\n",
       "      <td>57.352941</td>\n",
       "      <td>27.205882</td>\n",
       "      <td>0.000000</td>\n",
       "      <td>2.205882</td>\n",
       "      <td>0.000000</td>\n",
       "      <td>0.000000</td>\n",
       "      <td>...</td>\n",
       "      <td>0.000000</td>\n",
       "      <td>2.255639</td>\n",
       "      <td>2.255639</td>\n",
       "      <td>94.736842</td>\n",
       "      <td>0.00000</td>\n",
       "      <td>0.000000</td>\n",
       "      <td>77.142857</td>\n",
       "      <td>3.809524</td>\n",
       "      <td>10.476190</td>\n",
       "      <td>8.571429</td>\n",
       "    </tr>\n",
       "    <tr>\n",
       "      <th>2</th>\n",
       "      <td>0.000000</td>\n",
       "      <td>3.973510</td>\n",
       "      <td>3.311258</td>\n",
       "      <td>0.000000</td>\n",
       "      <td>70.860927</td>\n",
       "      <td>14.569536</td>\n",
       "      <td>5.298013</td>\n",
       "      <td>1.986755</td>\n",
       "      <td>0.000000</td>\n",
       "      <td>0.000000</td>\n",
       "      <td>...</td>\n",
       "      <td>2.205882</td>\n",
       "      <td>0.000000</td>\n",
       "      <td>38.970588</td>\n",
       "      <td>2.941176</td>\n",
       "      <td>0.00000</td>\n",
       "      <td>16.176471</td>\n",
       "      <td>71.028037</td>\n",
       "      <td>0.934579</td>\n",
       "      <td>7.476636</td>\n",
       "      <td>20.560748</td>\n",
       "    </tr>\n",
       "    <tr>\n",
       "      <th>3</th>\n",
       "      <td>0.000000</td>\n",
       "      <td>1.459854</td>\n",
       "      <td>10.218978</td>\n",
       "      <td>0.000000</td>\n",
       "      <td>0.000000</td>\n",
       "      <td>0.000000</td>\n",
       "      <td>8.759124</td>\n",
       "      <td>25.547445</td>\n",
       "      <td>54.014599</td>\n",
       "      <td>5.839416</td>\n",
       "      <td>...</td>\n",
       "      <td>0.000000</td>\n",
       "      <td>0.000000</td>\n",
       "      <td>88.571429</td>\n",
       "      <td>0.000000</td>\n",
       "      <td>0.00000</td>\n",
       "      <td>2.142857</td>\n",
       "      <td>84.126984</td>\n",
       "      <td>2.380952</td>\n",
       "      <td>3.174603</td>\n",
       "      <td>10.317460</td>\n",
       "    </tr>\n",
       "    <tr>\n",
       "      <th>4</th>\n",
       "      <td>0.000000</td>\n",
       "      <td>0.000000</td>\n",
       "      <td>3.225806</td>\n",
       "      <td>0.000000</td>\n",
       "      <td>1.075269</td>\n",
       "      <td>0.000000</td>\n",
       "      <td>0.000000</td>\n",
       "      <td>32.258065</td>\n",
       "      <td>63.440860</td>\n",
       "      <td>0.000000</td>\n",
       "      <td>...</td>\n",
       "      <td>0.000000</td>\n",
       "      <td>0.000000</td>\n",
       "      <td>82.727273</td>\n",
       "      <td>5.454545</td>\n",
       "      <td>0.00000</td>\n",
       "      <td>4.545455</td>\n",
       "      <td>88.461538</td>\n",
       "      <td>0.000000</td>\n",
       "      <td>3.846154</td>\n",
       "      <td>7.692308</td>\n",
       "    </tr>\n",
       "    <tr>\n",
       "      <th>...</th>\n",
       "      <td>...</td>\n",
       "      <td>...</td>\n",
       "      <td>...</td>\n",
       "      <td>...</td>\n",
       "      <td>...</td>\n",
       "      <td>...</td>\n",
       "      <td>...</td>\n",
       "      <td>...</td>\n",
       "      <td>...</td>\n",
       "      <td>...</td>\n",
       "      <td>...</td>\n",
       "      <td>...</td>\n",
       "      <td>...</td>\n",
       "      <td>...</td>\n",
       "      <td>...</td>\n",
       "      <td>...</td>\n",
       "      <td>...</td>\n",
       "      <td>...</td>\n",
       "      <td>...</td>\n",
       "      <td>...</td>\n",
       "      <td>...</td>\n",
       "    </tr>\n",
       "    <tr>\n",
       "      <th>195</th>\n",
       "      <td>2.702703</td>\n",
       "      <td>12.837838</td>\n",
       "      <td>0.000000</td>\n",
       "      <td>0.000000</td>\n",
       "      <td>0.000000</td>\n",
       "      <td>0.000000</td>\n",
       "      <td>76.351351</td>\n",
       "      <td>8.108108</td>\n",
       "      <td>0.000000</td>\n",
       "      <td>0.000000</td>\n",
       "      <td>...</td>\n",
       "      <td>0.000000</td>\n",
       "      <td>0.000000</td>\n",
       "      <td>0.000000</td>\n",
       "      <td>1.973684</td>\n",
       "      <td>0.00000</td>\n",
       "      <td>29.605263</td>\n",
       "      <td>14.379085</td>\n",
       "      <td>22.875817</td>\n",
       "      <td>56.209150</td>\n",
       "      <td>6.535948</td>\n",
       "    </tr>\n",
       "    <tr>\n",
       "      <th>196</th>\n",
       "      <td>18.300654</td>\n",
       "      <td>11.764706</td>\n",
       "      <td>0.000000</td>\n",
       "      <td>3.267974</td>\n",
       "      <td>0.000000</td>\n",
       "      <td>0.000000</td>\n",
       "      <td>60.784314</td>\n",
       "      <td>5.882353</td>\n",
       "      <td>0.000000</td>\n",
       "      <td>0.000000</td>\n",
       "      <td>...</td>\n",
       "      <td>0.000000</td>\n",
       "      <td>0.000000</td>\n",
       "      <td>35.443038</td>\n",
       "      <td>4.430380</td>\n",
       "      <td>0.00000</td>\n",
       "      <td>22.784810</td>\n",
       "      <td>16.783217</td>\n",
       "      <td>25.174825</td>\n",
       "      <td>32.167832</td>\n",
       "      <td>25.874126</td>\n",
       "    </tr>\n",
       "    <tr>\n",
       "      <th>197</th>\n",
       "      <td>10.759494</td>\n",
       "      <td>36.708861</td>\n",
       "      <td>0.000000</td>\n",
       "      <td>7.594937</td>\n",
       "      <td>0.632911</td>\n",
       "      <td>0.000000</td>\n",
       "      <td>43.670886</td>\n",
       "      <td>0.632911</td>\n",
       "      <td>0.000000</td>\n",
       "      <td>0.000000</td>\n",
       "      <td>...</td>\n",
       "      <td>0.000000</td>\n",
       "      <td>0.000000</td>\n",
       "      <td>14.375000</td>\n",
       "      <td>13.125000</td>\n",
       "      <td>0.00000</td>\n",
       "      <td>41.875000</td>\n",
       "      <td>18.791946</td>\n",
       "      <td>44.295302</td>\n",
       "      <td>18.791946</td>\n",
       "      <td>18.120805</td>\n",
       "    </tr>\n",
       "    <tr>\n",
       "      <th>198</th>\n",
       "      <td>0.000000</td>\n",
       "      <td>2.068966</td>\n",
       "      <td>0.000000</td>\n",
       "      <td>2.068966</td>\n",
       "      <td>0.000000</td>\n",
       "      <td>0.000000</td>\n",
       "      <td>88.275862</td>\n",
       "      <td>7.586207</td>\n",
       "      <td>0.000000</td>\n",
       "      <td>0.000000</td>\n",
       "      <td>...</td>\n",
       "      <td>0.000000</td>\n",
       "      <td>1.324503</td>\n",
       "      <td>3.973510</td>\n",
       "      <td>0.000000</td>\n",
       "      <td>0.00000</td>\n",
       "      <td>19.205298</td>\n",
       "      <td>12.413793</td>\n",
       "      <td>34.482759</td>\n",
       "      <td>33.103448</td>\n",
       "      <td>20.000000</td>\n",
       "    </tr>\n",
       "    <tr>\n",
       "      <th>199</th>\n",
       "      <td>0.000000</td>\n",
       "      <td>8.280255</td>\n",
       "      <td>0.000000</td>\n",
       "      <td>0.000000</td>\n",
       "      <td>0.000000</td>\n",
       "      <td>0.000000</td>\n",
       "      <td>82.802548</td>\n",
       "      <td>8.917197</td>\n",
       "      <td>0.000000</td>\n",
       "      <td>0.000000</td>\n",
       "      <td>...</td>\n",
       "      <td>0.000000</td>\n",
       "      <td>0.000000</td>\n",
       "      <td>10.429448</td>\n",
       "      <td>34.969325</td>\n",
       "      <td>0.00000</td>\n",
       "      <td>38.036810</td>\n",
       "      <td>56.488550</td>\n",
       "      <td>3.053435</td>\n",
       "      <td>10.687023</td>\n",
       "      <td>29.770992</td>\n",
       "    </tr>\n",
       "  </tbody>\n",
       "</table>\n",
       "<p>200 rows × 312 columns</p>\n",
       "</div>"
      ],
      "text/plain": [
       "           0          1          2         3          4          5    \\\n",
       "0     0.000000   2.919708   1.459854  0.000000  59.854015  26.277372   \n",
       "1     4.411765   4.411765   2.941176  1.470588  57.352941  27.205882   \n",
       "2     0.000000   3.973510   3.311258  0.000000  70.860927  14.569536   \n",
       "3     0.000000   1.459854  10.218978  0.000000   0.000000   0.000000   \n",
       "4     0.000000   0.000000   3.225806  0.000000   1.075269   0.000000   \n",
       "..         ...        ...        ...       ...        ...        ...   \n",
       "195   2.702703  12.837838   0.000000  0.000000   0.000000   0.000000   \n",
       "196  18.300654  11.764706   0.000000  3.267974   0.000000   0.000000   \n",
       "197  10.759494  36.708861   0.000000  7.594937   0.632911   0.000000   \n",
       "198   0.000000   2.068966   0.000000  2.068966   0.000000   0.000000   \n",
       "199   0.000000   8.280255   0.000000  0.000000   0.000000   0.000000   \n",
       "\n",
       "           6          7          8         9    ...       302       303  \\\n",
       "0     3.649635   5.839416   0.000000  1.639344  ...  0.000000  0.000000   \n",
       "1     0.000000   2.205882   0.000000  0.000000  ...  0.000000  2.255639   \n",
       "2     5.298013   1.986755   0.000000  0.000000  ...  2.205882  0.000000   \n",
       "3     8.759124  25.547445  54.014599  5.839416  ...  0.000000  0.000000   \n",
       "4     0.000000  32.258065  63.440860  0.000000  ...  0.000000  0.000000   \n",
       "..         ...        ...        ...       ...  ...       ...       ...   \n",
       "195  76.351351   8.108108   0.000000  0.000000  ...  0.000000  0.000000   \n",
       "196  60.784314   5.882353   0.000000  0.000000  ...  0.000000  0.000000   \n",
       "197  43.670886   0.632911   0.000000  0.000000  ...  0.000000  0.000000   \n",
       "198  88.275862   7.586207   0.000000  0.000000  ...  0.000000  1.324503   \n",
       "199  82.802548   8.917197   0.000000  0.000000  ...  0.000000  0.000000   \n",
       "\n",
       "           304        305      306        307        308        309  \\\n",
       "0    21.276596  11.347518  2.12766  31.914894  53.571429   5.357143   \n",
       "1     2.255639  94.736842  0.00000   0.000000  77.142857   3.809524   \n",
       "2    38.970588   2.941176  0.00000  16.176471  71.028037   0.934579   \n",
       "3    88.571429   0.000000  0.00000   2.142857  84.126984   2.380952   \n",
       "4    82.727273   5.454545  0.00000   4.545455  88.461538   0.000000   \n",
       "..         ...        ...      ...        ...        ...        ...   \n",
       "195   0.000000   1.973684  0.00000  29.605263  14.379085  22.875817   \n",
       "196  35.443038   4.430380  0.00000  22.784810  16.783217  25.174825   \n",
       "197  14.375000  13.125000  0.00000  41.875000  18.791946  44.295302   \n",
       "198   3.973510   0.000000  0.00000  19.205298  12.413793  34.482759   \n",
       "199  10.429448  34.969325  0.00000  38.036810  56.488550   3.053435   \n",
       "\n",
       "           310        311  \n",
       "0    21.428571  19.642857  \n",
       "1    10.476190   8.571429  \n",
       "2     7.476636  20.560748  \n",
       "3     3.174603  10.317460  \n",
       "4     3.846154   7.692308  \n",
       "..         ...        ...  \n",
       "195  56.209150   6.535948  \n",
       "196  32.167832  25.874126  \n",
       "197  18.791946  18.120805  \n",
       "198  33.103448  20.000000  \n",
       "199  10.687023  29.770992  \n",
       "\n",
       "[200 rows x 312 columns]"
      ]
     },
     "execution_count": 832,
     "metadata": {},
     "output_type": "execute_result"
    }
   ],
   "source": [
    "class_attr"
   ]
  },
  {
   "cell_type": "code",
   "execution_count": 839,
   "metadata": {
    "ExecuteTime": {
     "end_time": "2021-10-05T21:52:50.577741Z",
     "start_time": "2021-10-05T21:52:50.573996Z"
    }
   },
   "outputs": [],
   "source": [
    "#/big_fast_drive2/orm/CUB_200_2011/CUB_200_2011/image_class_labels.\n"
   ]
  },
  {
   "cell_type": "code",
   "execution_count": 774,
   "metadata": {
    "ExecuteTime": {
     "end_time": "2021-10-05T18:35:52.714906Z",
     "start_time": "2021-10-05T18:35:51.881542Z"
    }
   },
   "outputs": [],
   "source": [
    "images = pd.read_csv('/big_fast_drive2/orm/CUB_200_2011/CUB_200_2011/images.txt', \n",
    "                             names=['image_id', 'image_name'], delim_whitespace=True)\n",
    "\n",
    "#cat /big_fast_drive2/orm/CUB_200_2011/CUB_200_2011/attributes/certainties.txt\n",
    "certainties = ['not visible','guessing', 'probably', 'definitely']\n",
    "\n",
    "attribute_labels = pd.read_csv('/big_fast_drive2/orm/CUB_200_2011/CUB_200_2011/attributes/image_attribute_labels.txt',\n",
    "                              names=['image_id', 'attribute_id', 'is_present', 'certainty_id', 'time'], delim_whitespace=True)\n",
    "attributes = pd.read_csv('/big_fast_drive2/orm/CUB_200_2011/attributes.txt', names=['attribute_id', 'attribute_name'], delim_whitespace=True)"
   ]
  },
  {
   "cell_type": "code",
   "execution_count": 792,
   "metadata": {
    "ExecuteTime": {
     "end_time": "2021-10-05T18:50:34.281613Z",
     "start_time": "2021-10-05T18:50:33.958565Z"
    }
   },
   "outputs": [],
   "source": [
    "att_labels = pd.merge(attribute_labels, attributes, left_on='attribute_id', right_on='attribute_id')"
   ]
  },
  {
   "cell_type": "code",
   "execution_count": 795,
   "metadata": {
    "ExecuteTime": {
     "end_time": "2021-10-05T18:53:31.270206Z",
     "start_time": "2021-10-05T18:53:31.256228Z"
    }
   },
   "outputs": [
    {
     "data": {
      "text/html": [
       "<div>\n",
       "<style scoped>\n",
       "    .dataframe tbody tr th:only-of-type {\n",
       "        vertical-align: middle;\n",
       "    }\n",
       "\n",
       "    .dataframe tbody tr th {\n",
       "        vertical-align: top;\n",
       "    }\n",
       "\n",
       "    .dataframe thead th {\n",
       "        text-align: right;\n",
       "    }\n",
       "</style>\n",
       "<table border=\"1\" class=\"dataframe\">\n",
       "  <thead>\n",
       "    <tr style=\"text-align: right;\">\n",
       "      <th></th>\n",
       "      <th>attribute_id</th>\n",
       "      <th>attribute_name</th>\n",
       "      <th>attribute_col</th>\n",
       "      <th>attribute_variant</th>\n",
       "    </tr>\n",
       "  </thead>\n",
       "  <tbody>\n",
       "    <tr>\n",
       "      <th>308</th>\n",
       "      <td>309</td>\n",
       "      <td>has_wing_pattern::solid</td>\n",
       "      <td>has_wing_pattern</td>\n",
       "      <td>solid</td>\n",
       "    </tr>\n",
       "    <tr>\n",
       "      <th>309</th>\n",
       "      <td>310</td>\n",
       "      <td>has_wing_pattern::spotted</td>\n",
       "      <td>has_wing_pattern</td>\n",
       "      <td>spotted</td>\n",
       "    </tr>\n",
       "    <tr>\n",
       "      <th>310</th>\n",
       "      <td>311</td>\n",
       "      <td>has_wing_pattern::striped</td>\n",
       "      <td>has_wing_pattern</td>\n",
       "      <td>striped</td>\n",
       "    </tr>\n",
       "    <tr>\n",
       "      <th>311</th>\n",
       "      <td>312</td>\n",
       "      <td>has_wing_pattern::multi-colored</td>\n",
       "      <td>has_wing_pattern</td>\n",
       "      <td>multi-colored</td>\n",
       "    </tr>\n",
       "  </tbody>\n",
       "</table>\n",
       "</div>"
      ],
      "text/plain": [
       "     attribute_id                   attribute_name     attribute_col  \\\n",
       "308           309          has_wing_pattern::solid  has_wing_pattern   \n",
       "309           310        has_wing_pattern::spotted  has_wing_pattern   \n",
       "310           311        has_wing_pattern::striped  has_wing_pattern   \n",
       "311           312  has_wing_pattern::multi-colored  has_wing_pattern   \n",
       "\n",
       "    attribute_variant  \n",
       "308             solid  \n",
       "309           spotted  \n",
       "310           striped  \n",
       "311     multi-colored  "
      ]
     },
     "execution_count": 795,
     "metadata": {},
     "output_type": "execute_result"
    }
   ],
   "source": [
    "attributes[attributes.attribute_col == 'has_wing_pattern']"
   ]
  },
  {
   "cell_type": "code",
   "execution_count": null,
   "metadata": {},
   "outputs": [],
   "source": [
    "'/big_fast_drive2/orm/CUB_200_2011/CUB_200_2011/images/' + images[images.image_id == 8049].image_name.iloc[0]"
   ]
  },
  {
   "cell_type": "code",
   "execution_count": 848,
   "metadata": {
    "ExecuteTime": {
     "end_time": "2021-10-06T13:25:19.908179Z",
     "start_time": "2021-10-06T13:25:19.904693Z"
    }
   },
   "outputs": [],
   "source": [
    "# PIL.Image.open()"
   ]
  },
  {
   "cell_type": "code",
   "execution_count": 853,
   "metadata": {
    "ExecuteTime": {
     "end_time": "2021-10-06T13:36:58.363864Z",
     "start_time": "2021-10-06T13:36:58.360648Z"
    }
   },
   "outputs": [],
   "source": [
    "#### task: richer attribute based search\n",
    "#### task: help users building a pipeline quickly"
   ]
  },
  {
   "cell_type": "code",
   "execution_count": null,
   "metadata": {},
   "outputs": [],
   "source": [
    "### finetuned vs. pre-computed."
   ]
  },
  {
   "cell_type": "code",
   "execution_count": null,
   "metadata": {},
   "outputs": [],
   "source": [
    "sys.__"
   ]
  },
  {
   "cell_type": "code",
   "execution_count": null,
   "metadata": {},
   "outputs": [],
   "source": []
  },
  {
   "cell_type": "code",
   "execution_count": null,
   "metadata": {},
   "outputs": [],
   "source": []
  },
  {
   "cell_type": "code",
   "execution_count": 840,
   "metadata": {
    "ExecuteTime": {
     "end_time": "2021-10-05T21:55:59.175703Z",
     "start_time": "2021-10-05T21:55:59.172504Z"
    }
   },
   "outputs": [],
   "source": [
    "### get some initial result \n",
    "#### prepare revision code for use by student. also, for use by myself."
   ]
  },
  {
   "cell_type": "code",
   "execution_count": 842,
   "metadata": {
    "ExecuteTime": {
     "end_time": "2021-10-05T21:57:52.032479Z",
     "start_time": "2021-10-05T21:57:52.017620Z"
    }
   },
   "outputs": [
    {
     "data": {
      "text/html": [
       "<div>\n",
       "<style scoped>\n",
       "    .dataframe tbody tr th:only-of-type {\n",
       "        vertical-align: middle;\n",
       "    }\n",
       "\n",
       "    .dataframe tbody tr th {\n",
       "        vertical-align: top;\n",
       "    }\n",
       "\n",
       "    .dataframe thead th {\n",
       "        text-align: right;\n",
       "    }\n",
       "</style>\n",
       "<table border=\"1\" class=\"dataframe\">\n",
       "  <thead>\n",
       "    <tr style=\"text-align: right;\">\n",
       "      <th></th>\n",
       "      <th>image_id</th>\n",
       "      <th>image_name</th>\n",
       "    </tr>\n",
       "  </thead>\n",
       "  <tbody>\n",
       "    <tr>\n",
       "      <th>0</th>\n",
       "      <td>1</td>\n",
       "      <td>001.Black_footed_Albatross/Black_Footed_Albatr...</td>\n",
       "    </tr>\n",
       "    <tr>\n",
       "      <th>1</th>\n",
       "      <td>2</td>\n",
       "      <td>001.Black_footed_Albatross/Black_Footed_Albatr...</td>\n",
       "    </tr>\n",
       "    <tr>\n",
       "      <th>2</th>\n",
       "      <td>3</td>\n",
       "      <td>001.Black_footed_Albatross/Black_Footed_Albatr...</td>\n",
       "    </tr>\n",
       "    <tr>\n",
       "      <th>3</th>\n",
       "      <td>4</td>\n",
       "      <td>001.Black_footed_Albatross/Black_Footed_Albatr...</td>\n",
       "    </tr>\n",
       "    <tr>\n",
       "      <th>4</th>\n",
       "      <td>5</td>\n",
       "      <td>001.Black_footed_Albatross/Black_Footed_Albatr...</td>\n",
       "    </tr>\n",
       "    <tr>\n",
       "      <th>...</th>\n",
       "      <td>...</td>\n",
       "      <td>...</td>\n",
       "    </tr>\n",
       "    <tr>\n",
       "      <th>11783</th>\n",
       "      <td>11784</td>\n",
       "      <td>200.Common_Yellowthroat/Common_Yellowthroat_00...</td>\n",
       "    </tr>\n",
       "    <tr>\n",
       "      <th>11784</th>\n",
       "      <td>11785</td>\n",
       "      <td>200.Common_Yellowthroat/Common_Yellowthroat_00...</td>\n",
       "    </tr>\n",
       "    <tr>\n",
       "      <th>11785</th>\n",
       "      <td>11786</td>\n",
       "      <td>200.Common_Yellowthroat/Common_Yellowthroat_00...</td>\n",
       "    </tr>\n",
       "    <tr>\n",
       "      <th>11786</th>\n",
       "      <td>11787</td>\n",
       "      <td>200.Common_Yellowthroat/Common_Yellowthroat_00...</td>\n",
       "    </tr>\n",
       "    <tr>\n",
       "      <th>11787</th>\n",
       "      <td>11788</td>\n",
       "      <td>200.Common_Yellowthroat/Common_Yellowthroat_00...</td>\n",
       "    </tr>\n",
       "  </tbody>\n",
       "</table>\n",
       "<p>11788 rows × 2 columns</p>\n",
       "</div>"
      ],
      "text/plain": [
       "       image_id                                         image_name\n",
       "0             1  001.Black_footed_Albatross/Black_Footed_Albatr...\n",
       "1             2  001.Black_footed_Albatross/Black_Footed_Albatr...\n",
       "2             3  001.Black_footed_Albatross/Black_Footed_Albatr...\n",
       "3             4  001.Black_footed_Albatross/Black_Footed_Albatr...\n",
       "4             5  001.Black_footed_Albatross/Black_Footed_Albatr...\n",
       "...         ...                                                ...\n",
       "11783     11784  200.Common_Yellowthroat/Common_Yellowthroat_00...\n",
       "11784     11785  200.Common_Yellowthroat/Common_Yellowthroat_00...\n",
       "11785     11786  200.Common_Yellowthroat/Common_Yellowthroat_00...\n",
       "11786     11787  200.Common_Yellowthroat/Common_Yellowthroat_00...\n",
       "11787     11788  200.Common_Yellowthroat/Common_Yellowthroat_00...\n",
       "\n",
       "[11788 rows x 2 columns]"
      ]
     },
     "execution_count": 842,
     "metadata": {},
     "output_type": "execute_result"
    }
   ],
   "source": [
    "images"
   ]
  },
  {
   "cell_type": "code",
   "execution_count": 845,
   "metadata": {
    "ExecuteTime": {
     "end_time": "2021-10-05T22:02:04.116882Z",
     "start_time": "2021-10-05T22:02:04.113335Z"
    }
   },
   "outputs": [],
   "source": [
    "### what do you want to do now?"
   ]
  },
  {
   "cell_type": "code",
   "execution_count": 847,
   "metadata": {
    "ExecuteTime": {
     "end_time": "2021-10-05T22:06:09.174933Z",
     "start_time": "2021-10-05T22:06:09.171755Z"
    }
   },
   "outputs": [],
   "source": [
    "## write an evaluation task:\n",
    "### search based on attribute?"
   ]
  },
  {
   "cell_type": "code",
   "execution_count": null,
   "metadata": {},
   "outputs": [],
   "source": []
  },
  {
   "cell_type": "code",
   "execution_count": null,
   "metadata": {},
   "outputs": [],
   "source": []
  },
  {
   "cell_type": "code",
   "execution_count": null,
   "metadata": {},
   "outputs": [],
   "source": []
  },
  {
   "cell_type": "code",
   "execution_count": 797,
   "metadata": {
    "ExecuteTime": {
     "end_time": "2021-10-05T18:54:20.142116Z",
     "start_time": "2021-10-05T18:54:19.078761Z"
    }
   },
   "outputs": [],
   "source": [
    "att_labels_pivot = att_labels.pivot(index='image_id', columns='attribute_name', values='is_present')"
   ]
  },
  {
   "cell_type": "code",
   "execution_count": 798,
   "metadata": {
    "ExecuteTime": {
     "end_time": "2021-10-05T18:54:25.427687Z",
     "start_time": "2021-10-05T18:54:25.403969Z"
    }
   },
   "outputs": [
    {
     "data": {
      "text/html": [
       "<div>\n",
       "<style scoped>\n",
       "    .dataframe tbody tr th:only-of-type {\n",
       "        vertical-align: middle;\n",
       "    }\n",
       "\n",
       "    .dataframe tbody tr th {\n",
       "        vertical-align: top;\n",
       "    }\n",
       "\n",
       "    .dataframe thead th {\n",
       "        text-align: right;\n",
       "    }\n",
       "</style>\n",
       "<table border=\"1\" class=\"dataframe\">\n",
       "  <thead>\n",
       "    <tr style=\"text-align: right;\">\n",
       "      <th>attribute_name</th>\n",
       "      <th>has_back_color::black</th>\n",
       "      <th>has_back_color::blue</th>\n",
       "      <th>has_back_color::brown</th>\n",
       "      <th>has_back_color::buff</th>\n",
       "      <th>has_back_color::green</th>\n",
       "      <th>has_back_color::grey</th>\n",
       "      <th>has_back_color::iridescent</th>\n",
       "      <th>has_back_color::olive</th>\n",
       "      <th>has_back_color::orange</th>\n",
       "      <th>has_back_color::pink</th>\n",
       "      <th>...</th>\n",
       "      <th>has_wing_color::yellow</th>\n",
       "      <th>has_wing_pattern::multi-colored</th>\n",
       "      <th>has_wing_pattern::solid</th>\n",
       "      <th>has_wing_pattern::spotted</th>\n",
       "      <th>has_wing_pattern::striped</th>\n",
       "      <th>has_wing_shape::broad-wings</th>\n",
       "      <th>has_wing_shape::long-wings</th>\n",
       "      <th>has_wing_shape::pointed-wings</th>\n",
       "      <th>has_wing_shape::rounded-wings</th>\n",
       "      <th>has_wing_shape::tapered-wings</th>\n",
       "    </tr>\n",
       "    <tr>\n",
       "      <th>image_id</th>\n",
       "      <th></th>\n",
       "      <th></th>\n",
       "      <th></th>\n",
       "      <th></th>\n",
       "      <th></th>\n",
       "      <th></th>\n",
       "      <th></th>\n",
       "      <th></th>\n",
       "      <th></th>\n",
       "      <th></th>\n",
       "      <th></th>\n",
       "      <th></th>\n",
       "      <th></th>\n",
       "      <th></th>\n",
       "      <th></th>\n",
       "      <th></th>\n",
       "      <th></th>\n",
       "      <th></th>\n",
       "      <th></th>\n",
       "      <th></th>\n",
       "      <th></th>\n",
       "    </tr>\n",
       "  </thead>\n",
       "  <tbody>\n",
       "    <tr>\n",
       "      <th>1</th>\n",
       "      <td>0</td>\n",
       "      <td>0</td>\n",
       "      <td>0</td>\n",
       "      <td>0</td>\n",
       "      <td>0</td>\n",
       "      <td>0</td>\n",
       "      <td>0</td>\n",
       "      <td>0</td>\n",
       "      <td>0</td>\n",
       "      <td>0</td>\n",
       "      <td>...</td>\n",
       "      <td>0</td>\n",
       "      <td>0</td>\n",
       "      <td>0</td>\n",
       "      <td>0</td>\n",
       "      <td>0</td>\n",
       "      <td>0</td>\n",
       "      <td>0</td>\n",
       "      <td>0</td>\n",
       "      <td>0</td>\n",
       "      <td>0</td>\n",
       "    </tr>\n",
       "    <tr>\n",
       "      <th>2</th>\n",
       "      <td>0</td>\n",
       "      <td>0</td>\n",
       "      <td>0</td>\n",
       "      <td>0</td>\n",
       "      <td>0</td>\n",
       "      <td>1</td>\n",
       "      <td>0</td>\n",
       "      <td>0</td>\n",
       "      <td>0</td>\n",
       "      <td>0</td>\n",
       "      <td>...</td>\n",
       "      <td>0</td>\n",
       "      <td>0</td>\n",
       "      <td>0</td>\n",
       "      <td>0</td>\n",
       "      <td>0</td>\n",
       "      <td>0</td>\n",
       "      <td>0</td>\n",
       "      <td>0</td>\n",
       "      <td>1</td>\n",
       "      <td>0</td>\n",
       "    </tr>\n",
       "    <tr>\n",
       "      <th>3</th>\n",
       "      <td>0</td>\n",
       "      <td>0</td>\n",
       "      <td>0</td>\n",
       "      <td>1</td>\n",
       "      <td>0</td>\n",
       "      <td>0</td>\n",
       "      <td>0</td>\n",
       "      <td>0</td>\n",
       "      <td>0</td>\n",
       "      <td>0</td>\n",
       "      <td>...</td>\n",
       "      <td>0</td>\n",
       "      <td>0</td>\n",
       "      <td>0</td>\n",
       "      <td>0</td>\n",
       "      <td>1</td>\n",
       "      <td>0</td>\n",
       "      <td>1</td>\n",
       "      <td>0</td>\n",
       "      <td>0</td>\n",
       "      <td>0</td>\n",
       "    </tr>\n",
       "    <tr>\n",
       "      <th>4</th>\n",
       "      <td>0</td>\n",
       "      <td>0</td>\n",
       "      <td>1</td>\n",
       "      <td>0</td>\n",
       "      <td>0</td>\n",
       "      <td>0</td>\n",
       "      <td>0</td>\n",
       "      <td>0</td>\n",
       "      <td>0</td>\n",
       "      <td>0</td>\n",
       "      <td>...</td>\n",
       "      <td>0</td>\n",
       "      <td>0</td>\n",
       "      <td>1</td>\n",
       "      <td>0</td>\n",
       "      <td>0</td>\n",
       "      <td>1</td>\n",
       "      <td>0</td>\n",
       "      <td>0</td>\n",
       "      <td>0</td>\n",
       "      <td>0</td>\n",
       "    </tr>\n",
       "    <tr>\n",
       "      <th>5</th>\n",
       "      <td>0</td>\n",
       "      <td>0</td>\n",
       "      <td>0</td>\n",
       "      <td>0</td>\n",
       "      <td>0</td>\n",
       "      <td>0</td>\n",
       "      <td>0</td>\n",
       "      <td>0</td>\n",
       "      <td>0</td>\n",
       "      <td>0</td>\n",
       "      <td>...</td>\n",
       "      <td>0</td>\n",
       "      <td>0</td>\n",
       "      <td>0</td>\n",
       "      <td>0</td>\n",
       "      <td>0</td>\n",
       "      <td>0</td>\n",
       "      <td>1</td>\n",
       "      <td>1</td>\n",
       "      <td>0</td>\n",
       "      <td>0</td>\n",
       "    </tr>\n",
       "    <tr>\n",
       "      <th>...</th>\n",
       "      <td>...</td>\n",
       "      <td>...</td>\n",
       "      <td>...</td>\n",
       "      <td>...</td>\n",
       "      <td>...</td>\n",
       "      <td>...</td>\n",
       "      <td>...</td>\n",
       "      <td>...</td>\n",
       "      <td>...</td>\n",
       "      <td>...</td>\n",
       "      <td>...</td>\n",
       "      <td>...</td>\n",
       "      <td>...</td>\n",
       "      <td>...</td>\n",
       "      <td>...</td>\n",
       "      <td>...</td>\n",
       "      <td>...</td>\n",
       "      <td>...</td>\n",
       "      <td>...</td>\n",
       "      <td>...</td>\n",
       "      <td>...</td>\n",
       "    </tr>\n",
       "    <tr>\n",
       "      <th>11784</th>\n",
       "      <td>0</td>\n",
       "      <td>0</td>\n",
       "      <td>0</td>\n",
       "      <td>0</td>\n",
       "      <td>0</td>\n",
       "      <td>1</td>\n",
       "      <td>0</td>\n",
       "      <td>0</td>\n",
       "      <td>0</td>\n",
       "      <td>0</td>\n",
       "      <td>...</td>\n",
       "      <td>0</td>\n",
       "      <td>0</td>\n",
       "      <td>1</td>\n",
       "      <td>0</td>\n",
       "      <td>0</td>\n",
       "      <td>0</td>\n",
       "      <td>0</td>\n",
       "      <td>0</td>\n",
       "      <td>0</td>\n",
       "      <td>0</td>\n",
       "    </tr>\n",
       "    <tr>\n",
       "      <th>11785</th>\n",
       "      <td>0</td>\n",
       "      <td>0</td>\n",
       "      <td>0</td>\n",
       "      <td>0</td>\n",
       "      <td>0</td>\n",
       "      <td>0</td>\n",
       "      <td>0</td>\n",
       "      <td>0</td>\n",
       "      <td>0</td>\n",
       "      <td>0</td>\n",
       "      <td>...</td>\n",
       "      <td>1</td>\n",
       "      <td>0</td>\n",
       "      <td>0</td>\n",
       "      <td>0</td>\n",
       "      <td>0</td>\n",
       "      <td>0</td>\n",
       "      <td>0</td>\n",
       "      <td>0</td>\n",
       "      <td>0</td>\n",
       "      <td>0</td>\n",
       "    </tr>\n",
       "    <tr>\n",
       "      <th>11786</th>\n",
       "      <td>0</td>\n",
       "      <td>0</td>\n",
       "      <td>0</td>\n",
       "      <td>0</td>\n",
       "      <td>0</td>\n",
       "      <td>0</td>\n",
       "      <td>0</td>\n",
       "      <td>1</td>\n",
       "      <td>0</td>\n",
       "      <td>0</td>\n",
       "      <td>...</td>\n",
       "      <td>1</td>\n",
       "      <td>0</td>\n",
       "      <td>0</td>\n",
       "      <td>0</td>\n",
       "      <td>1</td>\n",
       "      <td>0</td>\n",
       "      <td>0</td>\n",
       "      <td>0</td>\n",
       "      <td>1</td>\n",
       "      <td>0</td>\n",
       "    </tr>\n",
       "    <tr>\n",
       "      <th>11787</th>\n",
       "      <td>0</td>\n",
       "      <td>0</td>\n",
       "      <td>0</td>\n",
       "      <td>1</td>\n",
       "      <td>0</td>\n",
       "      <td>0</td>\n",
       "      <td>0</td>\n",
       "      <td>0</td>\n",
       "      <td>0</td>\n",
       "      <td>0</td>\n",
       "      <td>...</td>\n",
       "      <td>0</td>\n",
       "      <td>0</td>\n",
       "      <td>0</td>\n",
       "      <td>0</td>\n",
       "      <td>1</td>\n",
       "      <td>0</td>\n",
       "      <td>0</td>\n",
       "      <td>0</td>\n",
       "      <td>1</td>\n",
       "      <td>0</td>\n",
       "    </tr>\n",
       "    <tr>\n",
       "      <th>11788</th>\n",
       "      <td>0</td>\n",
       "      <td>0</td>\n",
       "      <td>1</td>\n",
       "      <td>1</td>\n",
       "      <td>0</td>\n",
       "      <td>1</td>\n",
       "      <td>0</td>\n",
       "      <td>0</td>\n",
       "      <td>0</td>\n",
       "      <td>0</td>\n",
       "      <td>...</td>\n",
       "      <td>0</td>\n",
       "      <td>1</td>\n",
       "      <td>0</td>\n",
       "      <td>0</td>\n",
       "      <td>0</td>\n",
       "      <td>0</td>\n",
       "      <td>0</td>\n",
       "      <td>0</td>\n",
       "      <td>1</td>\n",
       "      <td>0</td>\n",
       "    </tr>\n",
       "  </tbody>\n",
       "</table>\n",
       "<p>11788 rows × 312 columns</p>\n",
       "</div>"
      ],
      "text/plain": [
       "attribute_name  has_back_color::black  has_back_color::blue  \\\n",
       "image_id                                                      \n",
       "1                                   0                     0   \n",
       "2                                   0                     0   \n",
       "3                                   0                     0   \n",
       "4                                   0                     0   \n",
       "5                                   0                     0   \n",
       "...                               ...                   ...   \n",
       "11784                               0                     0   \n",
       "11785                               0                     0   \n",
       "11786                               0                     0   \n",
       "11787                               0                     0   \n",
       "11788                               0                     0   \n",
       "\n",
       "attribute_name  has_back_color::brown  has_back_color::buff  \\\n",
       "image_id                                                      \n",
       "1                                   0                     0   \n",
       "2                                   0                     0   \n",
       "3                                   0                     1   \n",
       "4                                   1                     0   \n",
       "5                                   0                     0   \n",
       "...                               ...                   ...   \n",
       "11784                               0                     0   \n",
       "11785                               0                     0   \n",
       "11786                               0                     0   \n",
       "11787                               0                     1   \n",
       "11788                               1                     1   \n",
       "\n",
       "attribute_name  has_back_color::green  has_back_color::grey  \\\n",
       "image_id                                                      \n",
       "1                                   0                     0   \n",
       "2                                   0                     1   \n",
       "3                                   0                     0   \n",
       "4                                   0                     0   \n",
       "5                                   0                     0   \n",
       "...                               ...                   ...   \n",
       "11784                               0                     1   \n",
       "11785                               0                     0   \n",
       "11786                               0                     0   \n",
       "11787                               0                     0   \n",
       "11788                               0                     1   \n",
       "\n",
       "attribute_name  has_back_color::iridescent  has_back_color::olive  \\\n",
       "image_id                                                            \n",
       "1                                        0                      0   \n",
       "2                                        0                      0   \n",
       "3                                        0                      0   \n",
       "4                                        0                      0   \n",
       "5                                        0                      0   \n",
       "...                                    ...                    ...   \n",
       "11784                                    0                      0   \n",
       "11785                                    0                      0   \n",
       "11786                                    0                      1   \n",
       "11787                                    0                      0   \n",
       "11788                                    0                      0   \n",
       "\n",
       "attribute_name  has_back_color::orange  has_back_color::pink  ...  \\\n",
       "image_id                                                      ...   \n",
       "1                                    0                     0  ...   \n",
       "2                                    0                     0  ...   \n",
       "3                                    0                     0  ...   \n",
       "4                                    0                     0  ...   \n",
       "5                                    0                     0  ...   \n",
       "...                                ...                   ...  ...   \n",
       "11784                                0                     0  ...   \n",
       "11785                                0                     0  ...   \n",
       "11786                                0                     0  ...   \n",
       "11787                                0                     0  ...   \n",
       "11788                                0                     0  ...   \n",
       "\n",
       "attribute_name  has_wing_color::yellow  has_wing_pattern::multi-colored  \\\n",
       "image_id                                                                  \n",
       "1                                    0                                0   \n",
       "2                                    0                                0   \n",
       "3                                    0                                0   \n",
       "4                                    0                                0   \n",
       "5                                    0                                0   \n",
       "...                                ...                              ...   \n",
       "11784                                0                                0   \n",
       "11785                                1                                0   \n",
       "11786                                1                                0   \n",
       "11787                                0                                0   \n",
       "11788                                0                                1   \n",
       "\n",
       "attribute_name  has_wing_pattern::solid  has_wing_pattern::spotted  \\\n",
       "image_id                                                             \n",
       "1                                     0                          0   \n",
       "2                                     0                          0   \n",
       "3                                     0                          0   \n",
       "4                                     1                          0   \n",
       "5                                     0                          0   \n",
       "...                                 ...                        ...   \n",
       "11784                                 1                          0   \n",
       "11785                                 0                          0   \n",
       "11786                                 0                          0   \n",
       "11787                                 0                          0   \n",
       "11788                                 0                          0   \n",
       "\n",
       "attribute_name  has_wing_pattern::striped  has_wing_shape::broad-wings  \\\n",
       "image_id                                                                 \n",
       "1                                       0                            0   \n",
       "2                                       0                            0   \n",
       "3                                       1                            0   \n",
       "4                                       0                            1   \n",
       "5                                       0                            0   \n",
       "...                                   ...                          ...   \n",
       "11784                                   0                            0   \n",
       "11785                                   0                            0   \n",
       "11786                                   1                            0   \n",
       "11787                                   1                            0   \n",
       "11788                                   0                            0   \n",
       "\n",
       "attribute_name  has_wing_shape::long-wings  has_wing_shape::pointed-wings  \\\n",
       "image_id                                                                    \n",
       "1                                        0                              0   \n",
       "2                                        0                              0   \n",
       "3                                        1                              0   \n",
       "4                                        0                              0   \n",
       "5                                        1                              1   \n",
       "...                                    ...                            ...   \n",
       "11784                                    0                              0   \n",
       "11785                                    0                              0   \n",
       "11786                                    0                              0   \n",
       "11787                                    0                              0   \n",
       "11788                                    0                              0   \n",
       "\n",
       "attribute_name  has_wing_shape::rounded-wings  has_wing_shape::tapered-wings  \n",
       "image_id                                                                      \n",
       "1                                           0                              0  \n",
       "2                                           1                              0  \n",
       "3                                           0                              0  \n",
       "4                                           0                              0  \n",
       "5                                           0                              0  \n",
       "...                                       ...                            ...  \n",
       "11784                                       0                              0  \n",
       "11785                                       0                              0  \n",
       "11786                                       1                              0  \n",
       "11787                                       1                              0  \n",
       "11788                                       1                              0  \n",
       "\n",
       "[11788 rows x 312 columns]"
      ]
     },
     "execution_count": 798,
     "metadata": {},
     "output_type": "execute_result"
    }
   ],
   "source": [
    "att_labels_pivot"
   ]
  },
  {
   "cell_type": "code",
   "execution_count": 776,
   "metadata": {
    "ExecuteTime": {
     "end_time": "2021-10-05T18:35:58.347616Z",
     "start_time": "2021-10-05T18:35:58.344318Z"
    }
   },
   "outputs": [],
   "source": [
    "#cat '/big_fast_drive2/orm/CUB_200_2011/CUB_200_2011/attributes/certainties.txt'"
   ]
  },
  {
   "cell_type": "code",
   "execution_count": 789,
   "metadata": {
    "ExecuteTime": {
     "end_time": "2021-10-05T18:49:53.060761Z",
     "start_time": "2021-10-05T18:49:53.054078Z"
    }
   },
   "outputs": [],
   "source": [
    "att0 = attributes.attribute_name.apply(lambda s : s.split('::')[0])\n",
    "att1 = attributes.attribute_name.apply(lambda s : s.split('::')[1])"
   ]
  },
  {
   "cell_type": "code",
   "execution_count": 791,
   "metadata": {
    "ExecuteTime": {
     "end_time": "2021-10-05T18:50:27.251528Z",
     "start_time": "2021-10-05T18:50:27.245321Z"
    }
   },
   "outputs": [],
   "source": [
    "attributes = attributes.assign(attribute_col=att0, attribute_variant=att1)"
   ]
  },
  {
   "cell_type": "code",
   "execution_count": null,
   "metadata": {},
   "outputs": [],
   "source": []
  },
  {
   "cell_type": "code",
   "execution_count": 770,
   "metadata": {
    "ExecuteTime": {
     "end_time": "2021-10-05T18:34:42.172599Z",
     "start_time": "2021-10-05T18:34:42.169366Z"
    }
   },
   "outputs": [],
   "source": [
    "#attribute_labels"
   ]
  },
  {
   "cell_type": "code",
   "execution_count": null,
   "metadata": {},
   "outputs": [],
   "source": []
  },
  {
   "cell_type": "code",
   "execution_count": 746,
   "metadata": {
    "ExecuteTime": {
     "end_time": "2021-10-05T18:19:41.742271Z",
     "start_time": "2021-10-05T18:19:41.491905Z"
    }
   },
   "outputs": [
    {
     "name": "stdout",
     "output_type": "stream",
     "text": [
      "===========================================\r\n",
      "The Caltech-UCSD Birds-200-2011 Dataset\r\n",
      "===========================================\r\n",
      "\r\n",
      "For more information about the dataset, visit the project website:\r\n",
      "\r\n",
      "  http://www.vision.caltech.edu/visipedia\r\n",
      "\r\n",
      "If you use the dataset in a publication, please cite the dataset in\r\n",
      "the style described on the dataset website (see url above).\r\n",
      "\r\n",
      "Directory Information\r\n",
      "---------------------\r\n",
      "\r\n",
      "- images/\r\n",
      "    The images organized in subdirectories based on species. See \r\n",
      "    IMAGES AND CLASS LABELS section below for more info.\r\n",
      "- parts/\r\n",
      "    15 part locations per image. See PART LOCATIONS section below \r\n",
      "    for more info.\r\n",
      "- attributes/\r\n",
      "    322 binary attribute labels from MTurk workers. See ATTRIBUTE LABELS \r\n",
      "    section below for more info.\r\n",
      "\r\n",
      "\r\n",
      "\r\n",
      "=========================\r\n",
      "IMAGES AND CLASS LABELS:\r\n",
      "=========================\r\n",
      "Images are contained in the directory images/, with 200 subdirectories (one for each bird species)\r\n",
      "\r\n",
      "------- List of image files (images.txt) ------\r\n",
      "The list of image file names is contained in the file images.txt, with each line corresponding to one image:\r\n",
      "\r\n",
      "<image_id> <image_name>\r\n",
      "------------------------------------------\r\n",
      "\r\n",
      "\r\n",
      "------- Train/test split (train_test_split.txt) ------\r\n",
      "The suggested train/test split is contained in the file train_test_split.txt, with each line corresponding to one image:\r\n",
      "\r\n",
      "<image_id> <is_training_image>\r\n",
      "\r\n",
      "where <image_id> corresponds to the ID in images.txt, and a value of 1 or 0 for <is_training_image> denotes that the file is in the training or test set, respectively.\r\n",
      "------------------------------------------------------\r\n",
      "\r\n",
      "\r\n",
      "------- List of class names (classes.txt) ------\r\n",
      "The list of class names (bird species) is contained in the file classes.txt, with each line corresponding to one class:\r\n",
      "\r\n",
      "<class_id> <class_name>\r\n",
      "--------------------------------------------\r\n",
      "\r\n",
      "\r\n",
      "------- Image class labels (image_class_labels.txt) ------\r\n",
      "The ground truth class labels (bird species labels) for each image are contained in the file image_class_labels.txt, with each line corresponding to one image:\r\n",
      "\r\n",
      "<image_id> <class_id>\r\n",
      "\r\n",
      "where <image_id> and <class_id> correspond to the IDs in images.txt and classes.txt, respectively.\r\n",
      "---------------------------------------------------------\r\n",
      "\r\n",
      "\r\n",
      "\r\n",
      "\r\n",
      "\r\n",
      "=========================\r\n",
      "BOUNDING BOXES:\r\n",
      "=========================\r\n",
      "\r\n",
      "Each image contains a single bounding box label.  Bounding box labels are contained in the file bounding_boxes.txt, with each line corresponding to one image:\r\n",
      "\r\n",
      "<image_id> <x> <y> <width> <height>\r\n",
      "\r\n",
      "where <image_id> corresponds to the ID in images.txt, and <x>, <y>, <width>, and <height> are all measured in pixels\r\n",
      "\r\n",
      "\r\n",
      "\r\n",
      "\r\n",
      "=========================\r\n",
      "PART LOCATIONS:\r\n",
      "=========================\r\n",
      "\r\n",
      "------- List of part names (parts/parts.txt) ------\r\n",
      "The list of all part names is contained in the file parts/parts.txt, with each line corresponding to one part:\r\n",
      "\r\n",
      "<part_id> <part_name>\r\n",
      "------------------------------------------\r\n",
      "\r\n",
      "\r\n",
      "------- Part locations (parts/part_locs.txt) ------\r\n",
      "The set of all ground truth part locations is contained in the file parts/part_locs.txt, with each line corresponding to the annotation of a particular part in a particular image:\r\n",
      "\r\n",
      "<image_id> <part_id> <x> <y> <visible>\r\n",
      "\r\n",
      "where <image_id> and <part_id> correspond to the IDs in images.txt and parts/parts.txt, respectively.  <x> and <y> denote the pixel location of the center of the part.  <visible> is 0 if the part is not visible in the image and 1 otherwise.\r\n",
      "----------------------------------------------------------\r\n",
      "\r\n",
      "\r\n",
      "------- MTurk part locations (parts/part_click_locs.txt) ------\r\n",
      "A set of multiple part locations for each image and part, as perceived by multiple MTurk users is contained in parts/part_click_locs.txt, with each line corresponding to the annotation of a particular part in a particular image by a different MTurk worker:\r\n",
      "\r\n",
      "<image_id> <part_id> <x> <y> <visible> <time>\r\n",
      "\r\n",
      "where <image_id>, <part_id>, <x>, <y> are in the same format as defined in parts/part_locs.txt, and <time> is the time in seconds spent by the MTurk worker.\r\n",
      "----------------------------------------------------------\r\n",
      "\r\n",
      "\r\n",
      "\r\n",
      "=========================\r\n",
      "ATTRIBUTE LABELS:\r\n",
      "=========================\r\n",
      "\r\n",
      "------- List of attribute names (attributes/attributes.txt) ------\r\n",
      "The list of all attribute names is contained in the file attributes/attributes.txt, with each line corresponding to one attribute:\r\n",
      "\r\n",
      "<attribute_id> <attribute_name>\r\n",
      "------------------------------------------------------------------\r\n",
      "\r\n",
      "\r\n",
      "------- List of certainty names (attributes/certainties.txt) ------\r\n",
      "The list of all certainty names (used by workers to specify their certainty of an attribute response of is contained in the file attributes/certainties.txt, with each line corresponding to one certainty:\r\n",
      "\r\n",
      "<certainty_id> <certainty_name>\r\n",
      "-------------------------------------------------------------------\r\n",
      "\r\n",
      "\r\n",
      "------- MTurk image attribute labels (attributes/image_attribute_labels.txt) ------\r\n",
      "The set of attribute labels as perceived by MTurkers for each image is contained in the file attributes/image_attribute_labels.txt, with each line corresponding to one image/attribute/worker triplet:\r\n",
      "\r\n",
      "<image_id> <attribute_id> <is_present> <certainty_id> <time>\r\n",
      "\r\n",
      "where <image_id>, <attribute_id>, <certainty_id> correspond to the IDs in images.txt, attributes/attributes.txt, and attributes/certainties.txt respectively.  <is_present> is 0 or 1 (1 denotes that the attribute is present).  <time> denotes the time spent by the MTurker in seconds.\r\n",
      "-----------------------------------------------------------------------------------\r\n",
      "\r\n",
      "\r\n",
      "------- Class attribute labels (attributes/class_attribute_labels_continuous.txt) ------\r\n",
      "Attributes on a per-class level--in a similar format to the Animals With Attributes dataset--are contained in attributes/class_attribute_labels_continuous.txt.  The file contains 200 lines and 312 space-separated columns.  Each line corresponds to one class (in the same order as classes.txt) and each column contains one real-valued number corresponding to one attribute (in the same order as attributes.txt).  The number is the percentage of the time (between 0 and 100) that a human thinks that the attribute is present for a given class\r\n",
      "----------------------------------------------------------------------------------------\r\n",
      "\r\n"
     ]
    }
   ],
   "source": [
    "cat /big_fast_drive2/orm/CUB_200_2011/CUB_200_2011/README"
   ]
  },
  {
   "cell_type": "code",
   "execution_count": 707,
   "metadata": {
    "ExecuteTime": {
     "end_time": "2021-10-05T14:30:26.914072Z",
     "start_time": "2021-10-05T14:30:26.894639Z"
    }
   },
   "outputs": [
    {
     "ename": "TypeError",
     "evalue": "__init__() missing 1 required positional argument: 'loader'",
     "output_type": "error",
     "traceback": [
      "\u001b[0;31m---------------------------------------------------------------------------\u001b[0m",
      "\u001b[0;31mTypeError\u001b[0m                                 Traceback (most recent call last)",
      "\u001b[0;32m<ipython-input-707-ef485c28b6e7>\u001b[0m in \u001b[0;36m<module>\u001b[0;34m\u001b[0m\n\u001b[0;32m----> 1\u001b[0;31m \u001b[0mtorchvision\u001b[0m\u001b[0;34m.\u001b[0m\u001b[0mdatasets\u001b[0m\u001b[0;34m.\u001b[0m\u001b[0mDatasetFolder\u001b[0m\u001b[0;34m(\u001b[0m\u001b[0;34m'/big_fast_drive2/orm/CUB_200_2011/'\u001b[0m\u001b[0;34m)\u001b[0m\u001b[0;34m\u001b[0m\u001b[0;34m\u001b[0m\u001b[0m\n\u001b[0m",
      "\u001b[0;31mTypeError\u001b[0m: __init__() missing 1 required positional argument: 'loader'"
     ]
    }
   ],
   "source": [
    "torchvision.datasets.DatasetFolder('/big_fast_drive2/orm/CUB_200_2011/', extensio)"
   ]
  },
  {
   "cell_type": "code",
   "execution_count": 719,
   "metadata": {
    "ExecuteTime": {
     "end_time": "2021-10-05T14:49:54.521797Z",
     "start_time": "2021-10-05T14:49:54.518545Z"
    }
   },
   "outputs": [],
   "source": [
    "#'/big_fast_drive2/orm/CUB_200_2011/CUB_200_2011/attributes/image_attribute_labels.txt'\n",
    "#pd.read_csv('/big_fast_drive2/orm/CUB_200_2011/CUB_200_2011/attributes/image_attribute_labels.txt')"
   ]
  },
  {
   "cell_type": "code",
   "execution_count": 723,
   "metadata": {
    "ExecuteTime": {
     "end_time": "2021-10-05T14:55:22.867190Z",
     "start_time": "2021-10-05T14:55:22.846797Z"
    }
   },
   "outputs": [
    {
     "data": {
      "text/html": [
       "<div>\n",
       "<style scoped>\n",
       "    .dataframe tbody tr th:only-of-type {\n",
       "        vertical-align: middle;\n",
       "    }\n",
       "\n",
       "    .dataframe tbody tr th {\n",
       "        vertical-align: top;\n",
       "    }\n",
       "\n",
       "    .dataframe thead th {\n",
       "        text-align: right;\n",
       "    }\n",
       "</style>\n",
       "<table border=\"1\" class=\"dataframe\">\n",
       "  <thead>\n",
       "    <tr style=\"text-align: right;\">\n",
       "      <th></th>\n",
       "      <th>image_url</th>\n",
       "      <th>description</th>\n",
       "      <th>species</th>\n",
       "      <th>image_alt</th>\n",
       "      <th>entry_type</th>\n",
       "    </tr>\n",
       "  </thead>\n",
       "  <tbody>\n",
       "    <tr>\n",
       "      <th>0</th>\n",
       "      <td>https://www.allaboutbirds.org/guide/assets/pho...</td>\n",
       "      <td>A large sparrow with a short, conical bill, an...</td>\n",
       "      <td>Abert's Towhee</td>\n",
       "      <td>Abert's Towhee</td>\n",
       "      <td>size_and_shape</td>\n",
       "    </tr>\n",
       "    <tr>\n",
       "      <th>1</th>\n",
       "      <td>https://www.allaboutbirds.org/guide/assets/pho...</td>\n",
       "      <td>Abert’s Towhee is grayish-brown above, pinkish...</td>\n",
       "      <td>Abert's Towhee</td>\n",
       "      <td>Abert's Towhee</td>\n",
       "      <td>color_pattern</td>\n",
       "    </tr>\n",
       "    <tr>\n",
       "      <th>2</th>\n",
       "      <td>https://www.allaboutbirds.org/guide/noindex/ph...</td>\n",
       "      <td>None</td>\n",
       "      <td>Abert's Towhee</td>\n",
       "      <td>Abert's Towhee Adult</td>\n",
       "      <td>example</td>\n",
       "    </tr>\n",
       "    <tr>\n",
       "      <th>3</th>\n",
       "      <td>https://www.allaboutbirds.org/guide/noindex/ph...</td>\n",
       "      <td>Large, ground-dwelling sparrow with a thick bi...</td>\n",
       "      <td>Abert's Towhee</td>\n",
       "      <td>Abert's Towhee Adult</td>\n",
       "      <td>example</td>\n",
       "    </tr>\n",
       "    <tr>\n",
       "      <th>4</th>\n",
       "      <td>https://www.allaboutbirds.org/guide/noindex/ph...</td>\n",
       "      <td>Large, long-tailed sparrow with a restricted r...</td>\n",
       "      <td>Abert's Towhee</td>\n",
       "      <td>Abert's Towhee Adult</td>\n",
       "      <td>example</td>\n",
       "    </tr>\n",
       "    <tr>\n",
       "      <th>...</th>\n",
       "      <td>...</td>\n",
       "      <td>...</td>\n",
       "      <td>...</td>\n",
       "      <td>...</td>\n",
       "      <td>...</td>\n",
       "    </tr>\n",
       "    <tr>\n",
       "      <th>6157</th>\n",
       "      <td>https://www.allaboutbirds.org/guide/assets/pho...</td>\n",
       "      <td>Female and immature Blackburnian Warblers have...</td>\n",
       "      <td>Yellow-throated Warbler</td>\n",
       "      <td>Blackburnian Warbler Female/immature is simila...</td>\n",
       "      <td>similar_to</td>\n",
       "    </tr>\n",
       "    <tr>\n",
       "      <th>6158</th>\n",
       "      <td>https://www.allaboutbirds.org/guide/assets/pho...</td>\n",
       "      <td>Males have a bright orange (not yellow) throat...</td>\n",
       "      <td>Yellow-throated Warbler</td>\n",
       "      <td>Blackburnian Warbler Adult male is similar to ...</td>\n",
       "      <td>similar_to</td>\n",
       "    </tr>\n",
       "    <tr>\n",
       "      <th>6159</th>\n",
       "      <td>https://www.allaboutbirds.org/guide/assets/pho...</td>\n",
       "      <td>Pine Warblers have a yellow-green (not gray) b...</td>\n",
       "      <td>Yellow-throated Warbler</td>\n",
       "      <td>Pine Warbler Adult male is similar to Yellow-t...</td>\n",
       "      <td>similar_to</td>\n",
       "    </tr>\n",
       "    <tr>\n",
       "      <th>6160</th>\n",
       "      <td>https://www.allaboutbirds.org/guide/assets/pho...</td>\n",
       "      <td>Female/immature Magnolia Warblers lack the Yel...</td>\n",
       "      <td>Yellow-throated Warbler</td>\n",
       "      <td>Magnolia Warbler Female/immature is similar to...</td>\n",
       "      <td>similar_to</td>\n",
       "    </tr>\n",
       "    <tr>\n",
       "      <th>6161</th>\n",
       "      <td>https://www.allaboutbirds.org/guide/assets/pho...</td>\n",
       "      <td>Adult male Magnolia Warblers have a black neck...</td>\n",
       "      <td>Yellow-throated Warbler</td>\n",
       "      <td>Magnolia Warbler Adult male is similar to Yell...</td>\n",
       "      <td>similar_to</td>\n",
       "    </tr>\n",
       "  </tbody>\n",
       "</table>\n",
       "<p>6162 rows × 5 columns</p>\n",
       "</div>"
      ],
      "text/plain": [
       "                                              image_url  \\\n",
       "0     https://www.allaboutbirds.org/guide/assets/pho...   \n",
       "1     https://www.allaboutbirds.org/guide/assets/pho...   \n",
       "2     https://www.allaboutbirds.org/guide/noindex/ph...   \n",
       "3     https://www.allaboutbirds.org/guide/noindex/ph...   \n",
       "4     https://www.allaboutbirds.org/guide/noindex/ph...   \n",
       "...                                                 ...   \n",
       "6157  https://www.allaboutbirds.org/guide/assets/pho...   \n",
       "6158  https://www.allaboutbirds.org/guide/assets/pho...   \n",
       "6159  https://www.allaboutbirds.org/guide/assets/pho...   \n",
       "6160  https://www.allaboutbirds.org/guide/assets/pho...   \n",
       "6161  https://www.allaboutbirds.org/guide/assets/pho...   \n",
       "\n",
       "                                            description  \\\n",
       "0     A large sparrow with a short, conical bill, an...   \n",
       "1     Abert’s Towhee is grayish-brown above, pinkish...   \n",
       "2                                                  None   \n",
       "3     Large, ground-dwelling sparrow with a thick bi...   \n",
       "4     Large, long-tailed sparrow with a restricted r...   \n",
       "...                                                 ...   \n",
       "6157  Female and immature Blackburnian Warblers have...   \n",
       "6158  Males have a bright orange (not yellow) throat...   \n",
       "6159  Pine Warblers have a yellow-green (not gray) b...   \n",
       "6160  Female/immature Magnolia Warblers lack the Yel...   \n",
       "6161  Adult male Magnolia Warblers have a black neck...   \n",
       "\n",
       "                      species  \\\n",
       "0              Abert's Towhee   \n",
       "1              Abert's Towhee   \n",
       "2              Abert's Towhee   \n",
       "3              Abert's Towhee   \n",
       "4              Abert's Towhee   \n",
       "...                       ...   \n",
       "6157  Yellow-throated Warbler   \n",
       "6158  Yellow-throated Warbler   \n",
       "6159  Yellow-throated Warbler   \n",
       "6160  Yellow-throated Warbler   \n",
       "6161  Yellow-throated Warbler   \n",
       "\n",
       "                                              image_alt      entry_type  \n",
       "0                                        Abert's Towhee  size_and_shape  \n",
       "1                                       Abert's Towhee    color_pattern  \n",
       "2                                  Abert's Towhee Adult         example  \n",
       "3                                  Abert's Towhee Adult         example  \n",
       "4                                  Abert's Towhee Adult         example  \n",
       "...                                                 ...             ...  \n",
       "6157  Blackburnian Warbler Female/immature is simila...      similar_to  \n",
       "6158  Blackburnian Warbler Adult male is similar to ...      similar_to  \n",
       "6159  Pine Warbler Adult male is similar to Yellow-t...      similar_to  \n",
       "6160  Magnolia Warbler Female/immature is similar to...      similar_to  \n",
       "6161  Magnolia Warbler Adult male is similar to Yell...      similar_to  \n",
       "\n",
       "[6162 rows x 5 columns]"
      ]
     },
     "execution_count": 723,
     "metadata": {},
     "output_type": "execute_result"
    }
   ],
   "source": [
    "bird_df[[ 'image_url', 'description', 'species', 'image_alt', 'entry_type']]"
   ]
  },
  {
   "cell_type": "code",
   "execution_count": 724,
   "metadata": {
    "ExecuteTime": {
     "end_time": "2021-10-05T14:55:34.957577Z",
     "start_time": "2021-10-05T14:55:34.954402Z"
    }
   },
   "outputs": [],
   "source": []
  },
  {
   "cell_type": "code",
   "execution_count": 735,
   "metadata": {
    "ExecuteTime": {
     "end_time": "2021-10-05T15:00:16.474769Z",
     "start_time": "2021-10-05T15:00:16.471665Z"
    }
   },
   "outputs": [],
   "source": [
    "## task 0: learn a species classifier. (note: are the species already in the encyclopedia?)\n",
    "### task 1: attribute classification (CUB has attribute data)\n",
    "### taks 2: part detection (both cub and nabirds have part boxes)"
   ]
  },
  {
   "cell_type": "code",
   "execution_count": null,
   "metadata": {},
   "outputs": [],
   "source": []
  },
  {
   "cell_type": "code",
   "execution_count": 728,
   "metadata": {
    "ExecuteTime": {
     "end_time": "2021-10-05T14:58:36.848020Z",
     "start_time": "2021-10-05T14:58:36.839301Z"
    }
   },
   "outputs": [],
   "source": [
    "tmp = bird_df[[ 'image_url', 'description', 'species', 'image_alt', 'entry_type']]\n",
    "tmp = tmp[tmp.entry_type == 'similar_to']"
   ]
  },
  {
   "cell_type": "code",
   "execution_count": 733,
   "metadata": {
    "ExecuteTime": {
     "end_time": "2021-10-05T14:59:43.002781Z",
     "start_time": "2021-10-05T14:59:42.997079Z"
    }
   },
   "outputs": [
    {
     "data": {
      "text/plain": [
       "\"Canyon Towhee has a buffy tinged face, not the dark face of Abert's Towhee. Canyon lives in desert scrub whereas Abert's occurs in brushy thickets along streams.\""
      ]
     },
     "execution_count": 733,
     "metadata": {},
     "output_type": "execute_result"
    }
   ],
   "source": [
    "tmp.description.iloc[0]"
   ]
  },
  {
   "cell_type": "code",
   "execution_count": 734,
   "metadata": {
    "ExecuteTime": {
     "end_time": "2021-10-05T14:59:56.697939Z",
     "start_time": "2021-10-05T14:59:56.692085Z"
    }
   },
   "outputs": [
    {
     "data": {
      "text/plain": [
       "'Adult male Magnolia Warblers have a black necklace that Yellow-throated Warblers lack. '"
      ]
     },
     "execution_count": 734,
     "metadata": {},
     "output_type": "execute_result"
    }
   ],
   "source": [
    "tmp.description.iloc[-1]"
   ]
  },
  {
   "cell_type": "code",
   "execution_count": 717,
   "metadata": {
    "ExecuteTime": {
     "end_time": "2021-10-05T14:40:46.161354Z",
     "start_time": "2021-10-05T14:40:46.157556Z"
    }
   },
   "outputs": [],
   "source": [
    "#ls '/big_fast_drive2/orm/CUB_200_2011/CUB_200_2011/attributes/'"
   ]
  },
  {
   "cell_type": "code",
   "execution_count": 720,
   "metadata": {
    "ExecuteTime": {
     "end_time": "2021-10-05T14:50:57.746339Z",
     "start_time": "2021-10-05T14:50:57.743125Z"
    }
   },
   "outputs": [],
   "source": [
    "#### observations. a model pre-trained with a large web corpus is available.\n",
    "### multiple large domain databases/encyclopedias are also available. these are an alternative\n",
    "## to creating your own captioned corpus."
   ]
  },
  {
   "cell_type": "code",
   "execution_count": 737,
   "metadata": {
    "ExecuteTime": {
     "end_time": "2021-10-05T15:17:13.424804Z",
     "start_time": "2021-10-05T15:17:13.185345Z"
    }
   },
   "outputs": [
    {
     "name": "stdout",
     "output_type": "stream",
     "text": [
      "1 has_bill_shape::curved_(up_or_down)\r\n",
      "2 has_bill_shape::dagger\r\n",
      "3 has_bill_shape::hooked\r\n",
      "4 has_bill_shape::needle\r\n",
      "5 has_bill_shape::hooked_seabird\r\n",
      "6 has_bill_shape::spatulate\r\n",
      "7 has_bill_shape::all-purpose\r\n",
      "8 has_bill_shape::cone\r\n",
      "9 has_bill_shape::specialized\r\n",
      "10 has_wing_color::blue\r\n",
      "11 has_wing_color::brown\r\n",
      "12 has_wing_color::iridescent\r\n",
      "13 has_wing_color::purple\r\n",
      "14 has_wing_color::rufous\r\n",
      "15 has_wing_color::grey\r\n",
      "16 has_wing_color::yellow\r\n",
      "17 has_wing_color::olive\r\n",
      "18 has_wing_color::green\r\n",
      "19 has_wing_color::pink\r\n",
      "20 has_wing_color::orange\r\n",
      "21 has_wing_color::black\r\n",
      "22 has_wing_color::white\r\n",
      "23 has_wing_color::red\r\n",
      "24 has_wing_color::buff\r\n",
      "25 has_upperparts_color::blue\r\n",
      "26 has_upperparts_color::brown\r\n",
      "27 has_upperparts_color::iridescent\r\n",
      "28 has_upperparts_color::purple\r\n",
      "29 has_upperparts_color::rufous\r\n",
      "30 has_upperparts_color::grey\r\n",
      "31 has_upperparts_color::yellow\r\n",
      "32 has_upperparts_color::olive\r\n",
      "33 has_upperparts_color::green\r\n",
      "34 has_upperparts_color::pink\r\n",
      "35 has_upperparts_color::orange\r\n",
      "36 has_upperparts_color::black\r\n",
      "37 has_upperparts_color::white\r\n",
      "38 has_upperparts_color::red\r\n",
      "39 has_upperparts_color::buff\r\n",
      "40 has_underparts_color::blue\r\n",
      "41 has_underparts_color::brown\r\n",
      "42 has_underparts_color::iridescent\r\n",
      "43 has_underparts_color::purple\r\n",
      "44 has_underparts_color::rufous\r\n",
      "45 has_underparts_color::grey\r\n",
      "46 has_underparts_color::yellow\r\n",
      "47 has_underparts_color::olive\r\n",
      "48 has_underparts_color::green\r\n",
      "49 has_underparts_color::pink\r\n",
      "50 has_underparts_color::orange\r\n",
      "51 has_underparts_color::black\r\n",
      "52 has_underparts_color::white\r\n",
      "53 has_underparts_color::red\r\n",
      "54 has_underparts_color::buff\r\n",
      "55 has_breast_pattern::solid\r\n",
      "56 has_breast_pattern::spotted\r\n",
      "57 has_breast_pattern::striped\r\n",
      "58 has_breast_pattern::multi-colored\r\n",
      "59 has_back_color::blue\r\n",
      "60 has_back_color::brown\r\n",
      "61 has_back_color::iridescent\r\n",
      "62 has_back_color::purple\r\n",
      "63 has_back_color::rufous\r\n",
      "64 has_back_color::grey\r\n",
      "65 has_back_color::yellow\r\n",
      "66 has_back_color::olive\r\n",
      "67 has_back_color::green\r\n",
      "68 has_back_color::pink\r\n",
      "69 has_back_color::orange\r\n",
      "70 has_back_color::black\r\n",
      "71 has_back_color::white\r\n",
      "72 has_back_color::red\r\n",
      "73 has_back_color::buff\r\n",
      "74 has_tail_shape::forked_tail\r\n",
      "75 has_tail_shape::rounded_tail\r\n",
      "76 has_tail_shape::notched_tail\r\n",
      "77 has_tail_shape::fan-shaped_tail\r\n",
      "78 has_tail_shape::pointed_tail\r\n",
      "79 has_tail_shape::squared_tail\r\n",
      "80 has_upper_tail_color::blue\r\n",
      "81 has_upper_tail_color::brown\r\n",
      "82 has_upper_tail_color::iridescent\r\n",
      "83 has_upper_tail_color::purple\r\n",
      "84 has_upper_tail_color::rufous\r\n",
      "85 has_upper_tail_color::grey\r\n",
      "86 has_upper_tail_color::yellow\r\n",
      "87 has_upper_tail_color::olive\r\n",
      "88 has_upper_tail_color::green\r\n",
      "89 has_upper_tail_color::pink\r\n",
      "90 has_upper_tail_color::orange\r\n",
      "91 has_upper_tail_color::black\r\n",
      "92 has_upper_tail_color::white\r\n",
      "93 has_upper_tail_color::red\r\n",
      "94 has_upper_tail_color::buff\r\n",
      "95 has_head_pattern::spotted\r\n",
      "96 has_head_pattern::malar\r\n",
      "97 has_head_pattern::crested\r\n",
      "98 has_head_pattern::masked\r\n",
      "99 has_head_pattern::unique_pattern\r\n",
      "100 has_head_pattern::eyebrow\r\n",
      "101 has_head_pattern::eyering\r\n",
      "102 has_head_pattern::plain\r\n",
      "103 has_head_pattern::eyeline\r\n",
      "104 has_head_pattern::striped\r\n",
      "105 has_head_pattern::capped\r\n",
      "106 has_breast_color::blue\r\n",
      "107 has_breast_color::brown\r\n",
      "108 has_breast_color::iridescent\r\n",
      "109 has_breast_color::purple\r\n",
      "110 has_breast_color::rufous\r\n",
      "111 has_breast_color::grey\r\n",
      "112 has_breast_color::yellow\r\n",
      "113 has_breast_color::olive\r\n",
      "114 has_breast_color::green\r\n",
      "115 has_breast_color::pink\r\n",
      "116 has_breast_color::orange\r\n",
      "117 has_breast_color::black\r\n",
      "118 has_breast_color::white\r\n",
      "119 has_breast_color::red\r\n",
      "120 has_breast_color::buff\r\n",
      "121 has_throat_color::blue\r\n",
      "122 has_throat_color::brown\r\n",
      "123 has_throat_color::iridescent\r\n",
      "124 has_throat_color::purple\r\n",
      "125 has_throat_color::rufous\r\n",
      "126 has_throat_color::grey\r\n",
      "127 has_throat_color::yellow\r\n",
      "128 has_throat_color::olive\r\n",
      "129 has_throat_color::green\r\n",
      "130 has_throat_color::pink\r\n",
      "131 has_throat_color::orange\r\n",
      "132 has_throat_color::black\r\n",
      "133 has_throat_color::white\r\n",
      "134 has_throat_color::red\r\n",
      "135 has_throat_color::buff\r\n",
      "136 has_eye_color::blue\r\n",
      "137 has_eye_color::brown\r\n",
      "138 has_eye_color::purple\r\n",
      "139 has_eye_color::rufous\r\n",
      "140 has_eye_color::grey\r\n",
      "141 has_eye_color::yellow\r\n",
      "142 has_eye_color::olive\r\n",
      "143 has_eye_color::green\r\n",
      "144 has_eye_color::pink\r\n",
      "145 has_eye_color::orange\r\n",
      "146 has_eye_color::black\r\n",
      "147 has_eye_color::white\r\n",
      "148 has_eye_color::red\r\n",
      "149 has_eye_color::buff\r\n",
      "150 has_bill_length::about_the_same_as_head\r\n",
      "151 has_bill_length::longer_than_head\r\n",
      "152 has_bill_length::shorter_than_head\r\n",
      "153 has_forehead_color::blue\r\n",
      "154 has_forehead_color::brown\r\n",
      "155 has_forehead_color::iridescent\r\n",
      "156 has_forehead_color::purple\r\n",
      "157 has_forehead_color::rufous\r\n",
      "158 has_forehead_color::grey\r\n",
      "159 has_forehead_color::yellow\r\n",
      "160 has_forehead_color::olive\r\n",
      "161 has_forehead_color::green\r\n",
      "162 has_forehead_color::pink\r\n",
      "163 has_forehead_color::orange\r\n",
      "164 has_forehead_color::black\r\n",
      "165 has_forehead_color::white\r\n",
      "166 has_forehead_color::red\r\n",
      "167 has_forehead_color::buff\r\n",
      "168 has_under_tail_color::blue\r\n",
      "169 has_under_tail_color::brown\r\n",
      "170 has_under_tail_color::iridescent\r\n",
      "171 has_under_tail_color::purple\r\n",
      "172 has_under_tail_color::rufous\r\n",
      "173 has_under_tail_color::grey\r\n",
      "174 has_under_tail_color::yellow\r\n",
      "175 has_under_tail_color::olive\r\n",
      "176 has_under_tail_color::green\r\n",
      "177 has_under_tail_color::pink\r\n",
      "178 has_under_tail_color::orange\r\n",
      "179 has_under_tail_color::black\r\n",
      "180 has_under_tail_color::white\r\n",
      "181 has_under_tail_color::red\r\n",
      "182 has_under_tail_color::buff\r\n",
      "183 has_nape_color::blue\r\n",
      "184 has_nape_color::brown\r\n",
      "185 has_nape_color::iridescent\r\n",
      "186 has_nape_color::purple\r\n",
      "187 has_nape_color::rufous\r\n",
      "188 has_nape_color::grey\r\n",
      "189 has_nape_color::yellow\r\n",
      "190 has_nape_color::olive\r\n",
      "191 has_nape_color::green\r\n",
      "192 has_nape_color::pink\r\n",
      "193 has_nape_color::orange\r\n",
      "194 has_nape_color::black\r\n",
      "195 has_nape_color::white\r\n",
      "196 has_nape_color::red\r\n",
      "197 has_nape_color::buff\r\n",
      "198 has_belly_color::blue\r\n",
      "199 has_belly_color::brown\r\n",
      "200 has_belly_color::iridescent\r\n",
      "201 has_belly_color::purple\r\n",
      "202 has_belly_color::rufous\r\n",
      "203 has_belly_color::grey\r\n",
      "204 has_belly_color::yellow\r\n",
      "205 has_belly_color::olive\r\n",
      "206 has_belly_color::green\r\n",
      "207 has_belly_color::pink\r\n",
      "208 has_belly_color::orange\r\n",
      "209 has_belly_color::black\r\n",
      "210 has_belly_color::white\r\n",
      "211 has_belly_color::red\r\n",
      "212 has_belly_color::buff\r\n",
      "213 has_wing_shape::rounded-wings\r\n",
      "214 has_wing_shape::pointed-wings\r\n",
      "215 has_wing_shape::broad-wings\r\n",
      "216 has_wing_shape::tapered-wings\r\n",
      "217 has_wing_shape::long-wings\r\n",
      "218 has_size::large_(16_-_32_in)\r\n",
      "219 has_size::small_(5_-_9_in)\r\n",
      "220 has_size::very_large_(32_-_72_in)\r\n",
      "221 has_size::medium_(9_-_16_in)\r\n",
      "222 has_size::very_small_(3_-_5_in)\r\n",
      "223 has_shape::upright-perching_water-like\r\n",
      "224 has_shape::chicken-like-marsh\r\n",
      "225 has_shape::long-legged-like\r\n",
      "226 has_shape::duck-like\r\n",
      "227 has_shape::owl-like\r\n",
      "228 has_shape::gull-like\r\n",
      "229 has_shape::hummingbird-like\r\n",
      "230 has_shape::pigeon-like\r\n",
      "231 has_shape::tree-clinging-like\r\n",
      "232 has_shape::hawk-like\r\n",
      "233 has_shape::sandpiper-like\r\n",
      "234 has_shape::upland-ground-like\r\n",
      "235 has_shape::swallow-like\r\n",
      "236 has_shape::perching-like\r\n",
      "237 has_back_pattern::solid\r\n",
      "238 has_back_pattern::spotted\r\n",
      "239 has_back_pattern::striped\r\n",
      "240 has_back_pattern::multi-colored\r\n",
      "241 has_tail_pattern::solid\r\n",
      "242 has_tail_pattern::spotted\r\n",
      "243 has_tail_pattern::striped\r\n",
      "244 has_tail_pattern::multi-colored\r\n",
      "245 has_belly_pattern::solid\r\n",
      "246 has_belly_pattern::spotted\r\n",
      "247 has_belly_pattern::striped\r\n",
      "248 has_belly_pattern::multi-colored\r\n",
      "249 has_primary_color::blue\r\n",
      "250 has_primary_color::brown\r\n",
      "251 has_primary_color::iridescent\r\n",
      "252 has_primary_color::purple\r\n",
      "253 has_primary_color::rufous\r\n",
      "254 has_primary_color::grey\r\n",
      "255 has_primary_color::yellow\r\n",
      "256 has_primary_color::olive\r\n",
      "257 has_primary_color::green\r\n",
      "258 has_primary_color::pink\r\n",
      "259 has_primary_color::orange\r\n",
      "260 has_primary_color::black\r\n",
      "261 has_primary_color::white\r\n",
      "262 has_primary_color::red\r\n",
      "263 has_primary_color::buff\r\n",
      "264 has_leg_color::blue\r\n",
      "265 has_leg_color::brown\r\n",
      "266 has_leg_color::iridescent\r\n",
      "267 has_leg_color::purple\r\n",
      "268 has_leg_color::rufous\r\n",
      "269 has_leg_color::grey\r\n",
      "270 has_leg_color::yellow\r\n",
      "271 has_leg_color::olive\r\n",
      "272 has_leg_color::green\r\n",
      "273 has_leg_color::pink\r\n",
      "274 has_leg_color::orange\r\n",
      "275 has_leg_color::black\r\n",
      "276 has_leg_color::white\r\n",
      "277 has_leg_color::red\r\n",
      "278 has_leg_color::buff\r\n",
      "279 has_bill_color::blue\r\n",
      "280 has_bill_color::brown\r\n",
      "281 has_bill_color::iridescent\r\n",
      "282 has_bill_color::purple\r\n",
      "283 has_bill_color::rufous\r\n",
      "284 has_bill_color::grey\r\n",
      "285 has_bill_color::yellow\r\n",
      "286 has_bill_color::olive\r\n",
      "287 has_bill_color::green\r\n",
      "288 has_bill_color::pink\r\n",
      "289 has_bill_color::orange\r\n",
      "290 has_bill_color::black\r\n",
      "291 has_bill_color::white\r\n",
      "292 has_bill_color::red\r\n",
      "293 has_bill_color::buff\r\n",
      "294 has_crown_color::blue\r\n",
      "295 has_crown_color::brown\r\n",
      "296 has_crown_color::iridescent\r\n",
      "297 has_crown_color::purple\r\n",
      "298 has_crown_color::rufous\r\n",
      "299 has_crown_color::grey\r\n",
      "300 has_crown_color::yellow\r\n",
      "301 has_crown_color::olive\r\n",
      "302 has_crown_color::green\r\n",
      "303 has_crown_color::pink\r\n",
      "304 has_crown_color::orange\r\n",
      "305 has_crown_color::black\r\n",
      "306 has_crown_color::white\r\n",
      "307 has_crown_color::red\r\n",
      "308 has_crown_color::buff\r\n",
      "309 has_wing_pattern::solid\r\n",
      "310 has_wing_pattern::spotted\r\n",
      "311 has_wing_pattern::striped\r\n",
      "312 has_wing_pattern::multi-colored\r\n"
     ]
    }
   ],
   "source": [
    "cat /big_fast_drive2/orm/CUB_200_2011/attributes.txt"
   ]
  },
  {
   "cell_type": "code",
   "execution_count": null,
   "metadata": {},
   "outputs": [],
   "source": []
  },
  {
   "cell_type": "code",
   "execution_count": null,
   "metadata": {},
   "outputs": [],
   "source": [
    "# image | caption model\n",
    "### difference model: leverage descriptions of differences to learn a better model."
   ]
  }
 ],
 "metadata": {
  "kernelspec": {
   "display_name": "Python [conda env:root] *",
   "language": "python",
   "name": "conda-root-py"
  },
  "language_info": {
   "codemirror_mode": {
    "name": "ipython",
    "version": 3
   },
   "file_extension": ".py",
   "mimetype": "text/x-python",
   "name": "python",
   "nbconvert_exporter": "python",
   "pygments_lexer": "ipython3",
   "version": "3.8.11"
  },
  "toc": {
   "base_numbering": 1,
   "nav_menu": {},
   "number_sections": true,
   "sideBar": true,
   "skip_h1_title": false,
   "title_cell": "Table of Contents",
   "title_sidebar": "Contents",
   "toc_cell": false,
   "toc_position": {},
   "toc_section_display": true,
   "toc_window_display": false
  },
  "varInspector": {
   "cols": {
    "lenName": 16,
    "lenType": 16,
    "lenVar": 40
   },
   "kernels_config": {
    "python": {
     "delete_cmd_postfix": "",
     "delete_cmd_prefix": "del ",
     "library": "var_list.py",
     "varRefreshCmd": "print(var_dic_list())"
    },
    "r": {
     "delete_cmd_postfix": ") ",
     "delete_cmd_prefix": "rm(",
     "library": "var_list.r",
     "varRefreshCmd": "cat(var_dic_list()) "
    }
   },
   "types_to_exclude": [
    "module",
    "function",
    "builtin_function_or_method",
    "instance",
    "_Feature"
   ],
   "window_display": false
  }
 },
 "nbformat": 4,
 "nbformat_minor": 2
}
