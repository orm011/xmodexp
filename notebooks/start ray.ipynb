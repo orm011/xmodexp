{
 "cells": [
  {
   "cell_type": "code",
   "execution_count": 1,
   "id": "5bd26e07",
   "metadata": {
    "ExecuteTime": {
     "end_time": "2021-12-01T16:01:49.167584Z",
     "start_time": "2021-12-01T16:01:44.189229Z"
    }
   },
   "outputs": [],
   "source": [
    "import ray"
   ]
  },
  {
   "cell_type": "code",
   "execution_count": 3,
   "id": "a71a52ae",
   "metadata": {
    "ExecuteTime": {
     "end_time": "2021-12-02T06:44:47.582252Z",
     "start_time": "2021-12-02T06:44:47.434189Z"
    }
   },
   "outputs": [
    {
     "name": "stdout",
     "output_type": "stream",
     "text": [
      "LLGrid: txe1 (running slurm-wlm 20.11.3)\r\n",
      "JOBID              ARRAY_JOB_ NAME            USER    START_TIME          PARTITION  CPUS  FEATURES  MIN_MEMORY  ST  NODELIST(REASON)              \r\n",
      "12018739           12018739   interactive     omoll   2021-12-02T01:44:29 normal     8     xeon-g6   8500M       R   d-12-12-1                     \r\n",
      "12018740           12018740   interactive     omoll   2021-12-02T01:44:29 normal     8     xeon-g6   8500M       R   d-14-15-1                     \r\n",
      "12018741           12018741   interactive     omoll   2021-12-02T01:44:29 normal     8     xeon-g6   8500M       R   d-13-1-1                      \r\n",
      "12018742           12018742   interactive     omoll   2021-12-02T01:44:29 normal     8     xeon-g6   8500M       R   d-10-2-1                      \r\n",
      "12018743           12018743   interactive     omoll   2021-12-02T01:44:29 normal     8     xeon-g6   8500M       R   d-10-2-2                      \r\n",
      "12018744           12018744   interactive     omoll   2021-12-02T01:44:29 normal     8     xeon-g6   8500M       R   d-13-6-2                      \r\n",
      "12018745           12018745   interactive     omoll   2021-12-02T01:44:29 normal     8     xeon-g6   8500M       R   d-13-9-1                      \r\n",
      "12018746           12018746   interactive     omoll   2021-12-02T01:44:29 normal     8     xeon-g6   8500M       R   d-8-11-2                      \r\n",
      "12018747           12018747   interactive     omoll   2021-12-02T01:44:29 normal     8     xeon-g6   8500M       R   d-8-11-2                      \r\n",
      "12018748           12018748   interactive     omoll   2021-12-02T01:44:29 normal     8     xeon-g6   8500M       R   d-13-4-1                      \r\n",
      "12008770           12008770   JupyterNotebook omoll   2021-12-02T00:46:09 normal     40    xeon-g6   8500M       R   d-14-15-2                     \r\n",
      "\r\n"
     ]
    }
   ],
   "source": [
    "!LLstat"
   ]
  },
  {
   "cell_type": "code",
   "execution_count": 7,
   "id": "621743b8",
   "metadata": {
    "ExecuteTime": {
     "end_time": "2021-12-02T05:53:34.383171Z",
     "start_time": "2021-12-02T05:53:34.342262Z"
    }
   },
   "outputs": [
    {
     "ename": "NameError",
     "evalue": "name 'ray' is not defined",
     "output_type": "error",
     "traceback": [
      "\u001b[0;31m---------------------------------------------------------------------------\u001b[0m",
      "\u001b[0;31mNameError\u001b[0m                                 Traceback (most recent call last)",
      "\u001b[0;32m<ipython-input-7-b09f4b33de4a>\u001b[0m in \u001b[0;36m<module>\u001b[0;34m\u001b[0m\n\u001b[0;32m----> 1\u001b[0;31m \u001b[0mray\u001b[0m\u001b[0;34m.\u001b[0m\u001b[0mshutdown\u001b[0m\u001b[0;34m(\u001b[0m\u001b[0;34m)\u001b[0m\u001b[0;31m#init('auto')\u001b[0m\u001b[0;34m\u001b[0m\u001b[0;34m\u001b[0m\u001b[0m\n\u001b[0m",
      "\u001b[0;31mNameError\u001b[0m: name 'ray' is not defined"
     ]
    }
   ],
   "source": [
    "ray.shutdown()#init('auto')"
   ]
  },
  {
   "cell_type": "code",
   "execution_count": 3,
   "id": "bc46dd86",
   "metadata": {
    "ExecuteTime": {
     "end_time": "2021-12-02T05:48:39.187885Z",
     "start_time": "2021-12-02T05:48:39.186628Z"
    }
   },
   "outputs": [],
   "source": [
    "#ray.available_resources()"
   ]
  },
  {
   "cell_type": "code",
   "execution_count": 4,
   "id": "68f50525",
   "metadata": {
    "ExecuteTime": {
     "end_time": "2021-12-02T05:48:40.571392Z",
     "start_time": "2021-12-02T05:48:40.570086Z"
    }
   },
   "outputs": [],
   "source": [
    "#!kill 22908"
   ]
  },
  {
   "cell_type": "code",
   "execution_count": 1,
   "id": "2e84ccf0",
   "metadata": {
    "ExecuteTime": {
     "end_time": "2021-12-02T06:32:24.292647Z",
     "start_time": "2021-12-02T06:32:24.287843Z"
    }
   },
   "outputs": [],
   "source": [
    "%load_ext tensorboard"
   ]
  },
  {
   "cell_type": "code",
   "execution_count": 2,
   "id": "2507f412",
   "metadata": {
    "ExecuteTime": {
     "end_time": "2021-12-02T06:32:27.929897Z",
     "start_time": "2021-12-02T06:32:25.412779Z"
    }
   },
   "outputs": [
    {
     "data": {
      "text/html": [
       "\n",
       "      <iframe id=\"tensorboard-frame-ce386d1df56dbe5\" width=\"100%\" height=\"800\" frameborder=\"0\">\n",
       "      </iframe>\n",
       "      <script>\n",
       "        (function() {\n",
       "          const frame = document.getElementById(\"tensorboard-frame-ce386d1df56dbe5\");\n",
       "          const url = new URL(\"/\", window.location);\n",
       "          const port = 6006;\n",
       "          if (port) {\n",
       "            url.port = port;\n",
       "          }\n",
       "          frame.src = url;\n",
       "        })();\n",
       "      </script>\n",
       "    "
      ],
      "text/plain": [
       "<IPython.core.display.HTML object>"
      ]
     },
     "metadata": {},
     "output_type": "display_data"
    }
   ],
   "source": [
    "%tensorboard --logdir /home/gridsan/omoll/ray_results/exp3"
   ]
  },
  {
   "cell_type": "code",
   "execution_count": null,
   "id": "5542ccf6",
   "metadata": {},
   "outputs": [],
   "source": []
  }
 ],
 "metadata": {
  "kernelspec": {
   "display_name": "Python [conda env:root] *",
   "language": "python",
   "name": "conda-root-py"
  },
  "language_info": {
   "codemirror_mode": {
    "name": "ipython",
    "version": 3
   },
   "file_extension": ".py",
   "mimetype": "text/x-python",
   "name": "python",
   "nbconvert_exporter": "python",
   "pygments_lexer": "ipython3",
   "version": "3.8.11"
  },
  "toc": {
   "base_numbering": 1,
   "nav_menu": {},
   "number_sections": true,
   "sideBar": true,
   "skip_h1_title": false,
   "title_cell": "Table of Contents",
   "title_sidebar": "Contents",
   "toc_cell": false,
   "toc_position": {},
   "toc_section_display": true,
   "toc_window_display": false
  },
  "varInspector": {
   "cols": {
    "lenName": 16,
    "lenType": 16,
    "lenVar": 40
   },
   "kernels_config": {
    "python": {
     "delete_cmd_postfix": "",
     "delete_cmd_prefix": "del ",
     "library": "var_list.py",
     "varRefreshCmd": "print(var_dic_list())"
    },
    "r": {
     "delete_cmd_postfix": ") ",
     "delete_cmd_prefix": "rm(",
     "library": "var_list.r",
     "varRefreshCmd": "cat(var_dic_list()) "
    }
   },
   "types_to_exclude": [
    "module",
    "function",
    "builtin_function_or_method",
    "instance",
    "_Feature"
   ],
   "window_display": false
  }
 },
 "nbformat": 4,
 "nbformat_minor": 5
}
