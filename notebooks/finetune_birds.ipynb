{
 "cells": [
  {
   "cell_type": "code",
   "execution_count": 7,
   "id": "d0267b34",
   "metadata": {
    "ExecuteTime": {
     "end_time": "2021-11-24T18:12:52.530626Z",
     "start_time": "2021-11-24T18:12:52.529228Z"
    }
   },
   "outputs": [],
   "source": [
    "import transformers"
   ]
  },
  {
   "cell_type": "code",
   "execution_count": 13,
   "id": "f76c6d36",
   "metadata": {
    "ExecuteTime": {
     "end_time": "2021-11-24T18:30:04.512672Z",
     "start_time": "2021-11-24T18:30:04.510827Z"
    }
   },
   "outputs": [],
   "source": [
    "from transformers import CLIPModel, CLIPProcessor, CLIPTextModel, CLIPVisionModel"
   ]
  },
  {
   "cell_type": "code",
   "execution_count": 9,
   "id": "335d24cf",
   "metadata": {
    "ExecuteTime": {
     "end_time": "2021-11-24T18:13:01.322959Z",
     "start_time": "2021-11-24T18:12:56.387164Z"
    }
   },
   "outputs": [],
   "source": [
    "model = CLIPModel.from_pretrained(\"openai/clip-vit-base-patch32\")"
   ]
  },
  {
   "cell_type": "code",
   "execution_count": 17,
   "id": "3d6fc627",
   "metadata": {
    "ExecuteTime": {
     "end_time": "2021-11-24T19:44:28.004212Z",
     "start_time": "2021-11-24T19:44:28.002759Z"
    }
   },
   "outputs": [],
   "source": [
    "### goal: finetune model on bird dataset.\n",
    "### then try using it for searches on bird data."
   ]
  },
  {
   "cell_type": "code",
   "execution_count": 18,
   "id": "878f350f",
   "metadata": {
    "ExecuteTime": {
     "end_time": "2021-11-24T19:45:37.166304Z",
     "start_time": "2021-11-24T19:45:37.164870Z"
    }
   },
   "outputs": [],
   "source": [
    "### 1. where is the bird caption dataset?\n",
    "### 2. can I make a good class for it."
   ]
  },
  {
   "cell_type": "code",
   "execution_count": null,
   "id": "5275e1a4",
   "metadata": {},
   "outputs": [],
   "source": []
  },
  {
   "cell_type": "code",
   "execution_count": null,
   "id": "62fcc8a8",
   "metadata": {},
   "outputs": [],
   "source": []
  }
 ],
 "metadata": {
  "kernelspec": {
   "display_name": "Python [conda env:root] *",
   "language": "python",
   "name": "conda-root-py"
  },
  "language_info": {
   "codemirror_mode": {
    "name": "ipython",
    "version": 3
   },
   "file_extension": ".py",
   "mimetype": "text/x-python",
   "name": "python",
   "nbconvert_exporter": "python",
   "pygments_lexer": "ipython3",
   "version": "3.8.11"
  },
  "toc": {
   "base_numbering": 1,
   "nav_menu": {},
   "number_sections": true,
   "sideBar": true,
   "skip_h1_title": false,
   "title_cell": "Table of Contents",
   "title_sidebar": "Contents",
   "toc_cell": false,
   "toc_position": {},
   "toc_section_display": true,
   "toc_window_display": false
  },
  "varInspector": {
   "cols": {
    "lenName": 16,
    "lenType": 16,
    "lenVar": 40
   },
   "kernels_config": {
    "python": {
     "delete_cmd_postfix": "",
     "delete_cmd_prefix": "del ",
     "library": "var_list.py",
     "varRefreshCmd": "print(var_dic_list())"
    },
    "r": {
     "delete_cmd_postfix": ") ",
     "delete_cmd_prefix": "rm(",
     "library": "var_list.r",
     "varRefreshCmd": "cat(var_dic_list()) "
    }
   },
   "types_to_exclude": [
    "module",
    "function",
    "builtin_function_or_method",
    "instance",
    "_Feature"
   ],
   "window_display": false
  }
 },
 "nbformat": 4,
 "nbformat_minor": 5
}
